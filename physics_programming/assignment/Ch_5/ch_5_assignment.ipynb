{
 "cells": [
  {
   "cell_type": "markdown",
   "metadata": {},
   "source": [
    "Copyright (C) 2023 201800294_DongilKim All rights reserved <U>_(https://KimTein.github.io)_</U>"
   ]
  },
  {
   "attachments": {},
   "cell_type": "markdown",
   "metadata": {},
   "source": [
    "Ch_5_assignment"
   ]
  },
  {
   "cell_type": "code",
   "execution_count": 1,
   "metadata": {},
   "outputs": [],
   "source": [
    "from IPython.core.interactiveshell import InteractiveShell\n",
    "InteractiveShell.ast_node_interactivity = 'all'"
   ]
  },
  {
   "attachments": {},
   "cell_type": "markdown",
   "metadata": {},
   "source": [
    "# Making Choices"
   ]
  },
  {
   "cell_type": "markdown",
   "metadata": {},
   "source": [
    "## A Boolean Type"
   ]
  },
  {
   "attachments": {},
   "cell_type": "markdown",
   "metadata": {},
   "source": [
    "### Boolean Operato"
   ]
  },
  {
   "cell_type": "code",
   "execution_count": 2,
   "metadata": {},
   "outputs": [
    {
     "data": {
      "text/plain": [
       "False"
      ]
     },
     "execution_count": 2,
     "metadata": {},
     "output_type": "execute_result"
    },
    {
     "data": {
      "text/plain": [
       "True"
      ]
     },
     "execution_count": 2,
     "metadata": {},
     "output_type": "execute_result"
    },
    {
     "name": "stdout",
     "output_type": "stream",
     "text": [
      "\n"
     ]
    },
    {
     "data": {
      "text/plain": [
       "True"
      ]
     },
     "execution_count": 2,
     "metadata": {},
     "output_type": "execute_result"
    },
    {
     "data": {
      "text/plain": [
       "False"
      ]
     },
     "execution_count": 2,
     "metadata": {},
     "output_type": "execute_result"
    },
    {
     "data": {
      "text/plain": [
       "False"
      ]
     },
     "execution_count": 2,
     "metadata": {},
     "output_type": "execute_result"
    },
    {
     "data": {
      "text/plain": [
       "False"
      ]
     },
     "execution_count": 2,
     "metadata": {},
     "output_type": "execute_result"
    },
    {
     "name": "stdout",
     "output_type": "stream",
     "text": [
      "\n"
     ]
    },
    {
     "data": {
      "text/plain": [
       "True"
      ]
     },
     "execution_count": 2,
     "metadata": {},
     "output_type": "execute_result"
    },
    {
     "data": {
      "text/plain": [
       "False"
      ]
     },
     "execution_count": 2,
     "metadata": {},
     "output_type": "execute_result"
    },
    {
     "data": {
      "text/plain": [
       "True"
      ]
     },
     "execution_count": 2,
     "metadata": {},
     "output_type": "execute_result"
    },
    {
     "data": {
      "text/plain": [
       "True"
      ]
     },
     "execution_count": 2,
     "metadata": {},
     "output_type": "execute_result"
    }
   ],
   "source": [
    "# There are only three basic Boolean operators: and, or, and not. not has the highest precedence, followed\n",
    "# by and, followed by or.\n",
    "not True\n",
    "not False\n",
    "print()\n",
    "True and True\n",
    "False and False\n",
    "True and False\n",
    "False and True\n",
    "print()\n",
    "True or True\n",
    "False or False\n",
    "True or False\n",
    "False or True"
   ]
  },
  {
   "cell_type": "code",
   "execution_count": 3,
   "metadata": {},
   "outputs": [
    {
     "data": {
      "text/plain": [
       "False"
      ]
     },
     "execution_count": 3,
     "metadata": {},
     "output_type": "execute_result"
    },
    {
     "data": {
      "text/plain": [
       "False"
      ]
     },
     "execution_count": 3,
     "metadata": {},
     "output_type": "execute_result"
    }
   ],
   "source": [
    "cold = True\n",
    "windy = True\n",
    "(not cold) and windy\n",
    "not (cold and windy)"
   ]
  },
  {
   "attachments": {},
   "cell_type": "markdown",
   "metadata": {},
   "source": [
    "|**cold**|**windy**|**cold and windy**|**cold or windy**|**(not cold) and windy**|**not(cold and windy)**|\n",
    "|:---:|:---:|:---:|:---:|:--:|:--:|\n",
    "|True|True|True|True|False|False|\n",
    "|True|False|False|True|Fasle|True|\n",
    "|True|True|Fasle|True|True|True|\n",
    "|False|False|False|False|False|True|"
   ]
  },
  {
   "attachments": {},
   "cell_type": "markdown",
   "metadata": {},
   "source": [
    "### Relational Operators"
   ]
  },
  {
   "attachments": {},
   "cell_type": "markdown",
   "metadata": {},
   "source": [
    "|**Symnol**|Operation|\n",
    "|:---|---:|\n",
    "|>|Greater than|\n",
    "|<|Less than|\n",
    "|>=|Greater than or equal to|\n",
    "|<=|Less than or equal to|\n",
    "|==|Equal to|\n",
    "|!=|Not equal to|"
   ]
  },
  {
   "cell_type": "code",
   "execution_count": 12,
   "metadata": {},
   "outputs": [
    {
     "data": {
      "text/plain": [
       "True"
      ]
     },
     "execution_count": 12,
     "metadata": {},
     "output_type": "execute_result"
    },
    {
     "data": {
      "text/plain": [
       "False"
      ]
     },
     "execution_count": 12,
     "metadata": {},
     "output_type": "execute_result"
    },
    {
     "data": {
      "text/plain": [
       "False"
      ]
     },
     "execution_count": 12,
     "metadata": {},
     "output_type": "execute_result"
    }
   ],
   "source": [
    "#In this docstring, we use the acronym “iff,” which stands for “if and only if.” An equivalent phrase is “exactly when.”\n",
    "def is_positive(x:float)->bool:\n",
    "    return x > 0\n",
    "is_positive(3)\n",
    "is_positive(-4.6)\n",
    "is_positive(0)"
   ]
  },
  {
   "attachments": {},
   "cell_type": "markdown",
   "metadata": {},
   "source": [
    "### Combining Comparison"
   ]
  },
  {
   "cell_type": "code",
   "execution_count": 14,
   "metadata": {},
   "outputs": [
    {
     "data": {
      "text/plain": [
       "True"
      ]
     },
     "execution_count": 14,
     "metadata": {},
     "output_type": "execute_result"
    }
   ],
   "source": [
    "# Arithmetic Operators : +, - so on\n",
    "# Boolean Operators: and, or, and not\n",
    "# Relational Operators: <, ==, and so o\n",
    "x = 2\n",
    "y = 5\n",
    "z = 7\n",
    "x < y and y < z"
   ]
  },
  {
   "cell_type": "code",
   "execution_count": 15,
   "metadata": {},
   "outputs": [
    {
     "data": {
      "text/plain": [
       "True"
      ]
     },
     "execution_count": 15,
     "metadata": {},
     "output_type": "execute_result"
    },
    {
     "data": {
      "text/plain": [
       "False"
      ]
     },
     "execution_count": 15,
     "metadata": {},
     "output_type": "execute_result"
    },
    {
     "data": {
      "text/plain": [
       "True"
      ]
     },
     "execution_count": 15,
     "metadata": {},
     "output_type": "execute_result"
    }
   ],
   "source": [
    "# Arithmetic operators have higher precedence than relational operators. \n",
    "# Relational operators have higher precedence than Boolean operators.\n",
    "# All relational operators have the same precedence.\n",
    "x = 3\n",
    "(1 < x) and (x <= 5)\n",
    "\n",
    "x = 7\n",
    "(1 < x) and (x <= 5)\n",
    "\n",
    "x = 3\n",
    "1 < x <= 5"
   ]
  },
  {
   "cell_type": "code",
   "execution_count": 16,
   "metadata": {},
   "outputs": [
    {
     "data": {
      "text/plain": [
       "True"
      ]
     },
     "execution_count": 16,
     "metadata": {},
     "output_type": "execute_result"
    },
    {
     "data": {
      "text/plain": [
       "True"
      ]
     },
     "execution_count": 16,
     "metadata": {},
     "output_type": "execute_result"
    }
   ],
   "source": [
    "3 < 5 != True\n",
    "\n",
    "3 < 5 != False"
   ]
  },
  {
   "attachments": {},
   "cell_type": "markdown",
   "metadata": {},
   "source": [
    "### Short-Circuit Evaluation"
   ]
  },
  {
   "cell_type": "code",
   "execution_count": 17,
   "metadata": {},
   "outputs": [
    {
     "ename": "ZeroDivisionError",
     "evalue": "division by zero",
     "output_type": "error",
     "traceback": [
      "\u001b[0;31m---------------------------------------------------------------------------\u001b[0m",
      "\u001b[0;31mZeroDivisionError\u001b[0m                         Traceback (most recent call last)",
      "Cell \u001b[0;32mIn[17], line 1\u001b[0m\n\u001b[0;32m----> 1\u001b[0m \u001b[39m1\u001b[39;49m \u001b[39m/\u001b[39;49m \u001b[39m0\u001b[39;49m\n",
      "\u001b[0;31mZeroDivisionError\u001b[0m: division by zero"
     ]
    }
   ],
   "source": [
    "1 / 0"
   ]
  },
  {
   "cell_type": "code",
   "execution_count": 18,
   "metadata": {},
   "outputs": [
    {
     "data": {
      "text/plain": [
       "True"
      ]
     },
     "execution_count": 18,
     "metadata": {},
     "output_type": "execute_result"
    }
   ],
   "source": [
    "(2 < 3) or (1 / 0)"
   ]
  },
  {
   "attachments": {},
   "cell_type": "markdown",
   "metadata": {},
   "source": [
    "### Comparing Strings"
   ]
  },
  {
   "cell_type": "code",
   "execution_count": 1,
   "metadata": {},
   "outputs": [
    {
     "name": "stdout",
     "output_type": "stream",
     "text": [
      "\n"
     ]
    },
    {
     "data": {
      "text/plain": [
       "False"
      ]
     },
     "execution_count": 1,
     "metadata": {},
     "output_type": "execute_result"
    }
   ],
   "source": [
    "# The characters in strings are represented by integers: a capital A, for example, is represented by 65, whereas a space is 32, and a lowercase z is 122. \n",
    "# This encoding is called ASCII, which stands for “American Standard Code for Information Interchange.”\n",
    "'A' < 'a'\n",
    "'A' > 'z'\n",
    "'abc' < 'abd'\n",
    "'abc' < 'abcd'\n",
    "print()\n",
    "\n",
    "'Jan' in '01 Jan 1838'\n",
    "'Feb' in '01 Jan 1838'"
   ]
  },
  {
   "cell_type": "code",
   "execution_count": 2,
   "metadata": {},
   "outputs": [
    {
     "data": {
      "text/plain": [
       "False"
      ]
     },
     "execution_count": 2,
     "metadata": {},
     "output_type": "execute_result"
    }
   ],
   "source": [
    "date = input('Enter a date in the DD MTH YYYY: ')\n",
    "'Jan' in date"
   ]
  },
  {
   "cell_type": "code",
   "execution_count": 3,
   "metadata": {},
   "outputs": [
    {
     "data": {
      "text/plain": [
       "True"
      ]
     },
     "execution_count": 3,
     "metadata": {},
     "output_type": "execute_result"
    }
   ],
   "source": [
    "'a' in 'abc'\n",
    "'A' in 'abc'\n",
    "\n",
    "'' in 'abc'\n",
    "'' in ''"
   ]
  },
  {
   "attachments": {},
   "cell_type": "markdown",
   "metadata": {},
   "source": [
    "## Choosing Which Statements to Execute"
   ]
  },
  {
   "cell_type": "code",
   "execution_count": null,
   "metadata": {},
   "outputs": [],
   "source": [
    "if <<condition>> :\n",
    "    <<block>>"
   ]
  },
  {
   "cell_type": "code",
   "execution_count": 7,
   "metadata": {},
   "outputs": [
    {
     "name": "stdout",
     "output_type": "stream",
     "text": [
      "6.0 is acidic\n"
     ]
    }
   ],
   "source": [
    "ph = float(input('Enter the pH level: '))\n",
    "if ph < 7.0:\n",
    "    print(ph, \"is acidic\")"
   ]
  },
  {
   "cell_type": "code",
   "execution_count": null,
   "metadata": {},
   "outputs": [],
   "source": [
    "# If the condition is false, the statements in the block aren’t executed.\n",
    "ph = float(input('Enter the pH level: '))\n",
    "if ph < 7.0:\n",
    "    print(ph, \"is acidic\")"
   ]
  },
  {
   "cell_type": "code",
   "execution_count": 8,
   "metadata": {},
   "outputs": [
    {
     "ename": "IndentationError",
     "evalue": "expected an indented block (3039725836.py, line 3)",
     "output_type": "error",
     "traceback": [
      "\u001b[0;36m  Cell \u001b[0;32mIn[8], line 3\u001b[0;36m\u001b[0m\n\u001b[0;31m    print(ph, \"is acidic\")\u001b[0m\n\u001b[0m    ^\u001b[0m\n\u001b[0;31mIndentationError\u001b[0m\u001b[0;31m:\u001b[0m expected an indented block\n"
     ]
    }
   ],
   "source": [
    "# If we don’t indent the block, Python lets us knows.\n",
    "ph = float(input('Enter the pH level: '))\n",
    "if ph < 7.0:\n",
    "print(ph, \"is acidic\")"
   ]
  },
  {
   "cell_type": "code",
   "execution_count": 9,
   "metadata": {},
   "outputs": [
    {
     "name": "stdout",
     "output_type": "stream",
     "text": [
      "6.0 is acidic\n",
      "You should be careful with that!\n"
     ]
    }
   ],
   "source": [
    "# Since we’re using a block, we can have multiple statements that are executed only if the condition is true.\n",
    "ph = float(input('Enter the pH level: '))\n",
    "if ph < 7.0:\n",
    "    print(ph, \"is acidic\")\n",
    "    print(\"You should be careful with that!\")"
   ]
  },
  {
   "cell_type": "code",
   "execution_count": 10,
   "metadata": {},
   "outputs": [
    {
     "name": "stdout",
     "output_type": "stream",
     "text": [
      "You should be careful with that!\n"
     ]
    }
   ],
   "source": [
    "# When we indent the first line of the block, the Python interpreter changes its prompt to ... until the end of the block, which is signaled by a blank line.\n",
    "ph = float(input('Enter the pH level: '))\n",
    "if ph < 7.0:\n",
    "    print(ph, \"is acidic\")\n",
    "    \n",
    "print(\"You should be careful with that!\")"
   ]
  },
  {
   "cell_type": "code",
   "execution_count": null,
   "metadata": {},
   "outputs": [],
   "source": [
    "# If we don’t indent the code that’s in the block, the interpreter complains.\n",
    "ph = float(input('Enter the pH level: '))\n",
    "if ph < 7.0:\n",
    "    print(ph, \"is acidic.\")\n",
    "    \n",
    "if ph > 7.0:\n",
    "    print(ph, \"is basic.\")"
   ]
  },
  {
   "cell_type": "code",
   "execution_count": 13,
   "metadata": {},
   "outputs": [
    {
     "name": "stdout",
     "output_type": "stream",
     "text": [
      "8.5 is basic.\n"
     ]
    }
   ],
   "source": [
    "# We can merge both cases by adding another condition/block pair using the elif keyword (which stands for “else if”); each condition/block pair is called a clause\n",
    "ph = float(input('Enter the pH level: '))\n",
    "if ph < 7.0:\n",
    "    print(ph, \"is acidic.\")\n",
    "elif ph > 7.0:\n",
    "    print(ph, \"is basic.\")"
   ]
  },
  {
   "cell_type": "code",
   "execution_count": 14,
   "metadata": {},
   "outputs": [],
   "source": [
    "# If the pH is exactly 7.0, neither clause matches, so nothing is printed.\n",
    "ph = float(input('Enter the pH level: '))\n",
    "if ph < 7.0:\n",
    "    print(ph, \"is acidic.\")\n",
    "elif ph > 7.0:\n",
    "    print(ph, \"is basic.\")"
   ]
  },
  {
   "cell_type": "code",
   "execution_count": 15,
   "metadata": {},
   "outputs": [
    {
     "name": "stdout",
     "output_type": "stream",
     "text": [
      "8.0 is basic.\n"
     ]
    }
   ],
   "source": [
    "# if the body of the first if changes the value of a variable used in the second condition, they are not equivalent.\n",
    "ph = float(input('Enter the pH level: '))\n",
    "if ph < 7.0:\n",
    "    ph = 8.0\n",
    "    \n",
    "if ph > 7.0:\n",
    "    print(ph, \"is basic.\")"
   ]
  },
  {
   "cell_type": "code",
   "execution_count": 16,
   "metadata": {},
   "outputs": [],
   "source": [
    "# As a rule of thumb, if two conditions are related, use if/elif instead of two ifs.\n",
    "ph = float(input('Enter the pH level: '))\n",
    "if ph < 7.0:\n",
    "    ph = 8.0\n",
    "elif ph > 7.0:\n",
    "    print(ph, \"is basic.\")"
   ]
  },
  {
   "cell_type": "code",
   "execution_count": 17,
   "metadata": {},
   "outputs": [
    {
     "name": "stdout",
     "output_type": "stream",
     "text": [
      "Methane\n"
     ]
    }
   ],
   "source": [
    "# An if statement can be followed by multiple elif clauses.\n",
    "compound = input('Enter the compound: ')\n",
    "if compound == \"H20\":\n",
    "    print('Water')\n",
    "elif compound == \"NH3\":\n",
    "    print(\"Ammonia\")\n",
    "elif compound == \"CH4\":\n",
    "    print(\"Methane\")\n"
   ]
  },
  {
   "cell_type": "code",
   "execution_count": 18,
   "metadata": {},
   "outputs": [
    {
     "name": "stdout",
     "output_type": "stream",
     "text": [
      "Unknown compound\n"
     ]
    }
   ],
   "source": [
    "# An if statement can be followed by multiple elif clauses.\n",
    "compound = input('Enter the compound: ')\n",
    "if compound == \"H20\":\n",
    "    print('Water')\n",
    "elif compound == \"NH3\":\n",
    "    print(\"Ammonia\")\n",
    "elif compound == \"CH4\":\n",
    "    print(\"Methane\")\n",
    "else:\n",
    "    print(\"Unknown compound\")"
   ]
  },
  {
   "attachments": {},
   "cell_type": "markdown",
   "metadata": {},
   "source": [
    "## Nested if Statements"
   ]
  },
  {
   "cell_type": "code",
   "execution_count": 19,
   "metadata": {},
   "outputs": [
    {
     "name": "stdout",
     "output_type": "stream",
     "text": [
      "No pH value was given!\n"
     ]
    }
   ],
   "source": [
    "# An if statement inside another is called a nested if statement.\n",
    "value = input('Enter the pH level: ')\n",
    "if len(value) > 0:\n",
    "    ph = float(value)\n",
    "    if ph < 7.0:\n",
    "        print(ph, \"is acidic.\")\n",
    "    elif ph > 7.0:\n",
    "        print(ph, \"is basic.\")\n",
    "    else: \n",
    "        print(ph, \"is neutral.\")\n",
    "else:\n",
    "    print(\"No pH value was given!\")"
   ]
  },
  {
   "cell_type": "markdown",
   "metadata": {},
   "source": [
    "## Remembering Results of a Boolean Expression Evaluation"
   ]
  },
  {
   "cell_type": "code",
   "execution_count": 24,
   "metadata": {},
   "outputs": [],
   "source": [
    "# Take a look at the following line of code and guess what value is assigned to x.\n",
    "x = 15 > 5 # Answer is True"
   ]
  },
  {
   "attachments": {},
   "cell_type": "markdown",
   "metadata": {},
   "source": [
    "Suppose you want to calculate someone’s risk of heart disease using the following rules based on age and body mass index (BMI)."
   ]
  },
  {
   "cell_type": "code",
   "execution_count": 25,
   "metadata": {},
   "outputs": [],
   "source": [
    "# Type 1 (nest if statement)\n",
    "if age < 45 :\n",
    "    if bmi < 22.0:\n",
    "        risk = 'low'\n",
    "    else:\n",
    "        risk = 'medium'\n",
    "else:\n",
    "    if bmi < 22.0:\n",
    "        risk = 'medium'\n",
    "    else:\n",
    "        risk = 'high'"
   ]
  },
  {
   "cell_type": "code",
   "execution_count": null,
   "metadata": {},
   "outputs": [],
   "source": [
    "# Type 2 (Boolean expression)\n",
    "young = age < 45\n",
    "slim = bmi < 22.0   \n",
    "if young:\n",
    "    if slim:\n",
    "        risk = 'low'\n",
    "    else:\n",
    "        risk = 'medium'\n",
    "else:\n",
    "    if slim:\n",
    "        risk = 'medium'\n",
    "    else:\n",
    "        risk = 'high'"
   ]
  },
  {
   "cell_type": "code",
   "execution_count": null,
   "metadata": {},
   "outputs": [],
   "source": [
    "# Type 3 (without nesting)\n",
    "young = age < 45\n",
    "slim = bmi < 22.0   \n",
    "if young and slim:\n",
    "    risk = 'low'\n",
    "elif young and not slim:\n",
    "    risk = 'medium'\n",
    "elif not young and slim:\n",
    "    risk = 'medium'\n",
    "elif not young and not slim:\n",
    "    risk = 'high'"
   ]
  },
  {
   "cell_type": "markdown",
   "metadata": {},
   "source": [
    "\n",
    "*****************************************************************************\n",
    "Reference<br>\n",
    "*    Title: Physics Programming Lecture Note (INU)\n",
    "*    Author: Jeongwoo Kim, Ph.D.\n",
    "*    Availability: https://sites.google.com/view/jeongwookim\n",
    "  \n",
    "****************************************************************************"
   ]
  },
  {
   "attachments": {},
   "cell_type": "markdown",
   "metadata": {},
   "source": [
    "Copyright (C) 2023 201800294_DongilKim All rights reserved <U>_(https://KimTein.github.io)_</U>"
   ]
  }
 ],
 "metadata": {
  "kernelspec": {
   "display_name": "ai2023_ker",
   "language": "python",
   "name": "ai2023"
  },
  "language_info": {
   "codemirror_mode": {
    "name": "ipython",
    "version": 3
   },
   "file_extension": ".py",
   "mimetype": "text/x-python",
   "name": "python",
   "nbconvert_exporter": "python",
   "pygments_lexer": "ipython3",
   "version": "3.9.16"
  },
  "orig_nbformat": 4
 },
 "nbformat": 4,
 "nbformat_minor": 2
}
