{
 "cells": [
  {
   "cell_type": "markdown",
   "metadata": {},
   "source": [
    "Copyright (C) 2023 201800294_DongilKim All rights reserved <U>_(https://KimTein.github.io)_</U>"
   ]
  },
  {
   "attachments": {},
   "cell_type": "markdown",
   "metadata": {},
   "source": [
    "Ch_8_assignment"
   ]
  },
  {
   "cell_type": "code",
   "execution_count": 2,
   "metadata": {},
   "outputs": [],
   "source": [
    "from IPython.core.interactiveshell import InteractiveShell\n",
    "InteractiveShell.ast_node_interactivity = 'all'"
   ]
  },
  {
   "attachments": {},
   "cell_type": "markdown",
   "metadata": {},
   "source": [
    "# Sotring Collecntions of Data Using Lists"
   ]
  },
  {
   "attachments": {},
   "cell_type": "markdown",
   "metadata": {},
   "source": [
    "## Storing and Accessing Data in Lists"
   ]
  },
  {
   "cell_type": "code",
   "execution_count": 3,
   "metadata": {},
   "outputs": [
    {
     "data": {
      "text/plain": [
       "[5, 4, 7, 3, 2, 3, 2, 6, 4, 2, 1, 7, 1, 3]"
      ]
     },
     "execution_count": 3,
     "metadata": {},
     "output_type": "execute_result"
    }
   ],
   "source": [
    "# The number of gray whales counted near the Coal Oil Point Natural Reserve in a two-week period starting on February 24, 2008.\n",
    "whales = [5, 4, 7, 3, 2, 3, 2, 6, 4, 2, 1, 7, 1, 3]\n",
    "whales"
   ]
  },
  {
   "cell_type": "code",
   "execution_count": 4,
   "metadata": {},
   "outputs": [
    {
     "data": {
      "text/plain": [
       "5"
      ]
     },
     "execution_count": 4,
     "metadata": {},
     "output_type": "execute_result"
    },
    {
     "data": {
      "text/plain": [
       "4"
      ]
     },
     "execution_count": 4,
     "metadata": {},
     "output_type": "execute_result"
    },
    {
     "data": {
      "text/plain": [
       "1"
      ]
     },
     "execution_count": 4,
     "metadata": {},
     "output_type": "execute_result"
    },
    {
     "data": {
      "text/plain": [
       "3"
      ]
     },
     "execution_count": 4,
     "metadata": {},
     "output_type": "execute_result"
    },
    {
     "name": "stdout",
     "output_type": "stream",
     "text": [
      "Third day: 7\n"
     ]
    }
   ],
   "source": [
    "whales[0]\n",
    "whales[1]\n",
    "whales[12]\n",
    "whales[13]\n",
    "third = whales[2]\n",
    "print('Third day:', third)"
   ]
  },
  {
   "cell_type": "code",
   "execution_count": 5,
   "metadata": {},
   "outputs": [
    {
     "ename": "IndexError",
     "evalue": "list index out of range",
     "output_type": "error",
     "traceback": [
      "\u001b[0;31m---------------------------------------------------------------------------\u001b[0m",
      "\u001b[0;31mIndexError\u001b[0m                                Traceback (most recent call last)",
      "Cell \u001b[0;32mIn[5], line 1\u001b[0m\n\u001b[0;32m----> 1\u001b[0m whales[\u001b[39m1001\u001b[39;49m]\n",
      "\u001b[0;31mIndexError\u001b[0m: list index out of range"
     ]
    }
   ],
   "source": [
    "whales[1001]"
   ]
  },
  {
   "cell_type": "code",
   "execution_count": 7,
   "metadata": {},
   "outputs": [
    {
     "data": {
      "text/plain": [
       "3"
      ]
     },
     "execution_count": 7,
     "metadata": {},
     "output_type": "execute_result"
    },
    {
     "data": {
      "text/plain": [
       "1"
      ]
     },
     "execution_count": 7,
     "metadata": {},
     "output_type": "execute_result"
    },
    {
     "data": {
      "text/plain": [
       "5"
      ]
     },
     "execution_count": 7,
     "metadata": {},
     "output_type": "execute_result"
    },
    {
     "name": "stdout",
     "output_type": "stream",
     "text": [
      "Thrid day: 7\n"
     ]
    }
   ],
   "source": [
    "whales[-1]\n",
    "whales[-2]\n",
    "whales[-14]\n",
    "third = whales[2]\n",
    "print('Thrid day:', third)"
   ]
  },
  {
   "cell_type": "code",
   "execution_count": 8,
   "metadata": {},
   "outputs": [
    {
     "ename": "IndexError",
     "evalue": "list index out of range",
     "output_type": "error",
     "traceback": [
      "\u001b[0;31m---------------------------------------------------------------------------\u001b[0m",
      "\u001b[0;31mIndexError\u001b[0m                                Traceback (most recent call last)",
      "Cell \u001b[0;32mIn[8], line 1\u001b[0m\n\u001b[0;32m----> 1\u001b[0m whales[\u001b[39m-\u001b[39;49m\u001b[39m15\u001b[39;49m]\n",
      "\u001b[0;31mIndexError\u001b[0m: list index out of range"
     ]
    }
   ],
   "source": [
    "whales[-15]"
   ]
  },
  {
   "attachments": {},
   "cell_type": "markdown",
   "metadata": {},
   "source": [
    "### The Empty List"
   ]
  },
  {
   "cell_type": "code",
   "execution_count": 9,
   "metadata": {},
   "outputs": [
    {
     "ename": "IndexError",
     "evalue": "list index out of range",
     "output_type": "error",
     "traceback": [
      "\u001b[0;31m---------------------------------------------------------------------------\u001b[0m",
      "\u001b[0;31mIndexError\u001b[0m                                Traceback (most recent call last)",
      "Cell \u001b[0;32mIn[9], line 3\u001b[0m\n\u001b[1;32m      1\u001b[0m \u001b[39m# An empty list is a list with no items in it. As with all lists, an empty list is represented using brackets.\u001b[39;00m\n\u001b[1;32m      2\u001b[0m whales \u001b[39m=\u001b[39m []\n\u001b[0;32m----> 3\u001b[0m whales[\u001b[39m0\u001b[39;49m]\n\u001b[1;32m      4\u001b[0m whales[\u001b[39m-\u001b[39m\u001b[39m1\u001b[39m]\n",
      "\u001b[0;31mIndexError\u001b[0m: list index out of range"
     ]
    }
   ],
   "source": [
    "# An empty list is a list with no items in it. As with all lists, an empty list is represented using brackets.\n",
    "whales = []\n",
    "whales[0]\n",
    "whales[-1]"
   ]
  },
  {
   "attachments": {},
   "cell_type": "markdown",
   "metadata": {},
   "source": [
    "### Lists are Heterogeneous"
   ]
  },
  {
   "cell_type": "code",
   "execution_count": 15,
   "metadata": {},
   "outputs": [
    {
     "data": {
      "text/plain": [
       "'Kr'"
      ]
     },
     "execution_count": 15,
     "metadata": {},
     "output_type": "execute_result"
    },
    {
     "data": {
      "text/plain": [
       "-157.2"
      ]
     },
     "execution_count": 15,
     "metadata": {},
     "output_type": "execute_result"
    }
   ],
   "source": [
    "# Lists can contain any type of data, including integers, strings, and even other lists.\n",
    "krypton = ['Krypton', 'Kr', -157.2, -153.4]\n",
    "krypton[1]\n",
    "krypton[2]"
   ]
  },
  {
   "cell_type": "markdown",
   "metadata": {},
   "source": [
    "## type Annotations for Lists"
   ]
  },
  {
   "cell_type": "code",
   "execution_count": 16,
   "metadata": {},
   "outputs": [],
   "source": [
    "# When writing type contracts for functions, often we’ll want to specify that the values in a list parameter are all of a particular type.\n",
    "def average(L: list) -> float:\n",
    "    \"\"\"Return the average of the values in L.\n",
    "    \n",
    "    >>> average([1.4, 1.6, 1.8, 2.0])\n",
    "    1.7\n",
    "    \"\"\""
   ]
  },
  {
   "cell_type": "code",
   "execution_count": 17,
   "metadata": {},
   "outputs": [],
   "source": [
    "# It would be odd to call it with a list of strings, for example.\n",
    "# To address this, Python includes module typing that allows us to specify the expected type of value contained in a list.\n",
    "from typing import List\n",
    "def average(L: list[float]) -> float:\n",
    "    \"\"\"Return the average of the values in L.\n",
    "    \n",
    "    >>> average([1.4, 1.6, 1.8, 2.0])\n",
    "    1.7\n",
    "    \"\"\""
   ]
  },
  {
   "attachments": {},
   "cell_type": "markdown",
   "metadata": {},
   "source": [
    "## Modifying Lists"
   ]
  },
  {
   "cell_type": "code",
   "execution_count": 18,
   "metadata": {},
   "outputs": [
    {
     "data": {
      "text/plain": [
       "['helium', 'neon', 'argon', 'krypton', 'xenon', 'radon']"
      ]
     },
     "execution_count": 18,
     "metadata": {},
     "output_type": "execute_result"
    }
   ],
   "source": [
    "# That memory model also shows that list objects are mutable. That is, the contents of a list can be mutated.\n",
    "nobles = ['helium', 'none', 'argon', 'krypton', 'xenon', 'radon']\n",
    "nobles[1] = 'neon'\n",
    "nobles\n"
   ]
  },
  {
   "cell_type": "code",
   "execution_count": 19,
   "metadata": {},
   "outputs": [
    {
     "name": "stdout",
     "output_type": "stream",
     "text": [
      "DARWIN\n",
      "Darwin\n"
     ]
    }
   ],
   "source": [
    "# In contrast to lists, numbers and strings are immutable.\n",
    "name = 'Darwin'\n",
    "capitalized = name.upper()\n",
    "print(capitalized)\n",
    "print(name)"
   ]
  },
  {
   "cell_type": "markdown",
   "metadata": {},
   "source": [
    "## Operations on Lists"
   ]
  },
  {
   "cell_type": "code",
   "execution_count": 20,
   "metadata": {},
   "outputs": [
    {
     "data": {
      "text/plain": [
       "5"
      ]
     },
     "execution_count": 20,
     "metadata": {},
     "output_type": "execute_result"
    },
    {
     "data": {
      "text/plain": [
       "373300.0"
      ]
     },
     "execution_count": 20,
     "metadata": {},
     "output_type": "execute_result"
    },
    {
     "data": {
      "text/plain": [
       "14"
      ]
     },
     "execution_count": 20,
     "metadata": {},
     "output_type": "execute_result"
    },
    {
     "data": {
      "text/plain": [
       "404864.7"
      ]
     },
     "execution_count": 20,
     "metadata": {},
     "output_type": "execute_result"
    },
    {
     "data": {
      "text/plain": [
       "[14, 887.7, 6563.0, 24100.0, 373300.0]"
      ]
     },
     "execution_count": 20,
     "metadata": {},
     "output_type": "execute_result"
    },
    {
     "data": {
      "text/plain": [
       "[887.7, 24100.0, 6563.0, 14, 373300.0]"
      ]
     },
     "execution_count": 20,
     "metadata": {},
     "output_type": "execute_result"
    }
   ],
   "source": [
    "# Some of Python’s built-in functions, such as len, can be applied to lists\n",
    "half_lives = [887.7, 24100.0, 6563.0, 14, 373300.0]\n",
    "len(half_lives)\n",
    "max(half_lives)\n",
    "min(half_lives)\n",
    "sum(half_lives)\n",
    "sorted(half_lives)\n",
    "half_lives"
   ]
  },
  {
   "cell_type": "code",
   "execution_count": 23,
   "metadata": {},
   "outputs": [
    {
     "data": {
      "text/plain": [
       "['H', 'He', 'Li', 'Be']"
      ]
     },
     "execution_count": 23,
     "metadata": {},
     "output_type": "execute_result"
    }
   ],
   "source": [
    "# Like strings, lists can be combined using the concatenation (+) operator.\n",
    "original = ['H', 'He', 'Li']\n",
    "final = original + ['Be']\n",
    "final"
   ]
  },
  {
   "cell_type": "code",
   "execution_count": 24,
   "metadata": {},
   "outputs": [
    {
     "ename": "TypeError",
     "evalue": "can only concatenate list (not \"str\") to list",
     "output_type": "error",
     "traceback": [
      "\u001b[0;31m---------------------------------------------------------------------------\u001b[0m",
      "\u001b[0;31mTypeError\u001b[0m                                 Traceback (most recent call last)",
      "Cell \u001b[0;32mIn[24], line 1\u001b[0m\n\u001b[0;32m----> 1\u001b[0m [\u001b[39m'\u001b[39;49m\u001b[39mH\u001b[39;49m\u001b[39m'\u001b[39;49m, \u001b[39m'\u001b[39;49m\u001b[39mHe\u001b[39;49m\u001b[39m'\u001b[39;49m, \u001b[39m'\u001b[39;49m\u001b[39mLi\u001b[39;49m\u001b[39m'\u001b[39;49m] \u001b[39m+\u001b[39;49m \u001b[39m'\u001b[39;49m\u001b[39mBe\u001b[39;49m\u001b[39m'\u001b[39;49m\n",
      "\u001b[0;31mTypeError\u001b[0m: can only concatenate list (not \"str\") to list"
     ]
    }
   ],
   "source": [
    "# An error occurs when the concatenation operator is applied to a list and a string\n",
    "['H', 'He', 'Li'] + 'Be'"
   ]
  },
  {
   "cell_type": "code",
   "execution_count": 25,
   "metadata": {},
   "outputs": [
    {
     "data": {
      "text/plain": [
       "['Fe', 'Ni', 'Fe', 'Ni', 'Fe', 'Ni']"
      ]
     },
     "execution_count": 25,
     "metadata": {},
     "output_type": "execute_result"
    }
   ],
   "source": [
    "# You can also multiply a list by an integer to get a new list containing the elements from the original list repeated that number of times\n",
    "metals = ['Fe', 'Ni']\n",
    "metals * 3"
   ]
  },
  {
   "cell_type": "code",
   "execution_count": 26,
   "metadata": {},
   "outputs": [
    {
     "data": {
      "text/plain": [
       "['Ni']"
      ]
     },
     "execution_count": 26,
     "metadata": {},
     "output_type": "execute_result"
    }
   ],
   "source": [
    "# One operator that does modify a list is del, which stands for delete. It can be used to remove an item from a list\n",
    "metals = ['Fe', 'Ni']\n",
    "del metals[0]\n",
    "metals"
   ]
  },
  {
   "attachments": {},
   "cell_type": "markdown",
   "metadata": {},
   "source": [
    "### The in Operator in Lists"
   ]
  },
  {
   "cell_type": "code",
   "execution_count": 29,
   "metadata": {},
   "outputs": [
    {
     "name": "stdout",
     "output_type": "stream",
     "text": [
      "Enter a gas:  argon\n",
      "argon is noble.\n"
     ]
    }
   ],
   "source": [
    "# The in operator can be applied to lists to check whether an object is in a list\n",
    "nobles = ['helium', 'neon', 'argon', 'krypton', 'xenon', 'radon']\n",
    "gas = input('Enter a gas: ')\n",
    "print('Enter a gas: ', gas)\n",
    "if gas in nobles:\n",
    "    print('{} is noble.'.format(gas))"
   ]
  },
  {
   "cell_type": "code",
   "execution_count": 30,
   "metadata": {},
   "outputs": [
    {
     "data": {
      "text/plain": [
       "False"
      ]
     },
     "execution_count": 30,
     "metadata": {},
     "output_type": "execute_result"
    }
   ],
   "source": [
    "# Unlike with strings, when used with lists, the in operator checks only for a single item. This code checks whether the list [1, 2] is an item in the list [0, 1, 2, 3]\n",
    "[1, 2] in [0, 1, 2, 3]"
   ]
  },
  {
   "cell_type": "markdown",
   "metadata": {},
   "source": [
    "## Slicing Lists"
   ]
  },
  {
   "cell_type": "code",
   "execution_count": 35,
   "metadata": {},
   "outputs": [
    {
     "data": {
      "text/plain": [
       "['Emb', 'Him', 'Unc', 'Lon', 'Dpy', 'Sma']"
      ]
     },
     "execution_count": 35,
     "metadata": {},
     "output_type": "execute_result"
    },
    {
     "data": {
      "text/plain": [
       "['Emb', 'Him', 'Unc', 'Lon']"
      ]
     },
     "execution_count": 35,
     "metadata": {},
     "output_type": "execute_result"
    }
   ],
   "source": [
    "# list[i:j] is a slice of the original list from index i (inclusive) up to, but not including, index j (exclusive).\n",
    "celegans_phenotypes = ['Emb', 'Him', 'Unc', 'Lon', 'Dpy', 'Sma']\n",
    "celegans_phenotypes\n",
    "useful_markers = celegans_phenotypes[0:4]\n",
    "useful_markers"
   ]
  },
  {
   "cell_type": "code",
   "execution_count": 37,
   "metadata": {},
   "outputs": [
    {
     "data": {
      "text/plain": [
       "['Emb', 'Him', 'Unc', 'Lon']"
      ]
     },
     "execution_count": 37,
     "metadata": {},
     "output_type": "execute_result"
    },
    {
     "data": {
      "text/plain": [
       "['Dpy', 'Sma']"
      ]
     },
     "execution_count": 37,
     "metadata": {},
     "output_type": "execute_result"
    }
   ],
   "source": [
    "# The first index can be omitted if we want to slice from the beginning of the list, and the last index can be omitted if we want to slice to the end.\n",
    "celegans_phenotypes = ['Emb', 'Him', 'Unc', 'Lon', 'Dpy', 'Sma']\n",
    "celegans_phenotypes[:4]\n",
    "celegans_phenotypes[4:]"
   ]
  },
  {
   "cell_type": "code",
   "execution_count": 39,
   "metadata": {},
   "outputs": [
    {
     "data": {
      "text/plain": [
       "['Emb', 'Him', 'Unc', 'Lon', 'Dpy', 'Lv1']"
      ]
     },
     "execution_count": 39,
     "metadata": {},
     "output_type": "execute_result"
    },
    {
     "data": {
      "text/plain": [
       "['Emb', 'Him', 'Unc', 'Lon', 'Dpy', 'Sma']"
      ]
     },
     "execution_count": 39,
     "metadata": {},
     "output_type": "execute_result"
    }
   ],
   "source": [
    "# To create a copy of the entire list, omit both indices so that the “slice” runs from the start of the list to its end.\n",
    "celegans_phenotypes = ['Emb', 'Him', 'Unc', 'Lon', 'Dpy', 'Sma']\n",
    "celegans_copy = celegans_phenotypes[:]\n",
    "celegans_phenotypes[5] = 'Lv1'\n",
    "celegans_phenotypes\n",
    "celegans_copy\n"
   ]
  },
  {
   "attachments": {},
   "cell_type": "markdown",
   "metadata": {},
   "source": [
    "## Alias: What's in a Name?"
   ]
  },
  {
   "cell_type": "code",
   "execution_count": 41,
   "metadata": {},
   "outputs": [
    {
     "data": {
      "text/plain": [
       "['Emb', 'Him', 'Unc', 'Lon', 'Dpy', 'Lv1']"
      ]
     },
     "execution_count": 41,
     "metadata": {},
     "output_type": "execute_result"
    },
    {
     "data": {
      "text/plain": [
       "['Emb', 'Him', 'Unc', 'Lon', 'Dpy', 'Lv1']"
      ]
     },
     "execution_count": 41,
     "metadata": {},
     "output_type": "execute_result"
    }
   ],
   "source": [
    "# An alias is an alternative name for something.\n",
    "celegans_phenotypes = ['Emb', 'Him', 'Unc', 'Lon', 'Dpy', 'Sma']\n",
    "celegans_alias = celegans_phenotypes\n",
    "celegans_phenotypes[5] = 'Lv1'\n",
    "celegans_phenotypes\n",
    "celegans_alias"
   ]
  },
  {
   "cell_type": "code",
   "execution_count": 46,
   "metadata": {},
   "outputs": [
    {
     "data": {
      "text/plain": [
       "['Emb', 'Him', 'Unc', 'Lon', 'Dpy', 'Lv1']"
      ]
     },
     "execution_count": 46,
     "metadata": {},
     "output_type": "execute_result"
    },
    {
     "data": {
      "text/plain": [
       "['Emb', 'Him', 'Unc', 'Lon', 'Dpy', 'Sma']"
      ]
     },
     "execution_count": 46,
     "metadata": {},
     "output_type": "execute_result"
    }
   ],
   "source": [
    "celegans_phenotypes = ['Emb', 'Him', 'Unc', 'Lon', 'Dpy', 'Sma']\n",
    "celegans_copy = celegans_phenotypes[:]\n",
    "celegans_phenotypes[5] = 'Lv1'\n",
    "celegans_phenotypes\n",
    "celegans_copy"
   ]
  },
  {
   "attachments": {},
   "cell_type": "markdown",
   "metadata": {},
   "source": [
    "### Mutable Parameters"
   ]
  },
  {
   "cell_type": "code",
   "execution_count": 47,
   "metadata": {},
   "outputs": [
    {
     "data": {
      "text/plain": [
       "['Emb', 'Him', 'Unc', 'Lon', 'Dpy']"
      ]
     },
     "execution_count": 47,
     "metadata": {},
     "output_type": "execute_result"
    },
    {
     "data": {
      "text/plain": [
       "['Emb', 'Him', 'Unc', 'Lon', 'Dpy']"
      ]
     },
     "execution_count": 47,
     "metadata": {},
     "output_type": "execute_result"
    }
   ],
   "source": [
    "# Here is a function that takes a list, removes its last item, and returns the list.\n",
    "def remove_last_item(L: list) -> list:\n",
    "    \"\"\"Return list L with the last item removed.\n",
    "    \n",
    "    Precondition: len(L) >= 0\n",
    "    \n",
    "    >>> remove_last_item([1, 3, 2, 4])\n",
    "    [1, 3, 2]\n",
    "    \"\"\"\n",
    "    del L[-1]\n",
    "    return L\n",
    "\n",
    "# In the code that follows, a list is created and stored in a variable; then that variable is passed as an argument to remove_last_item.\n",
    "celegans_markers = ['Emb', 'Him', 'Unc', 'Lon', 'Dpy', 'Lv1']\n",
    "remove_last_item(celegans_markers) # When the call on function remove_last_item is executed, parameter L is assigned the memory address that celegans_markers contains.\n",
    "celegans_markers # That makes celegans_marker and L aliases."
   ]
  },
  {
   "cell_type": "code",
   "execution_count": 48,
   "metadata": {},
   "outputs": [],
   "source": [
    "from typing import List, Any\n",
    "def remove_last_item(L: list[Any]) -> list:\n",
    "    \"\"\"Return list L with the last item removed.\n",
    "    \n",
    "    Precondition: len(L) >= 0\n",
    "    \n",
    "    >>> remove_last_item([1, 3, 2, 4])\n",
    "    [1, 3, 2]\n",
    "    \"\"\"\n",
    "    del L[-1]\n",
    "    return L"
   ]
  },
  {
   "attachments": {},
   "cell_type": "markdown",
   "metadata": {},
   "source": [
    "## List Methods"
   ]
  },
  {
   "cell_type": "code",
   "execution_count": 49,
   "metadata": {},
   "outputs": [
    {
     "data": {
      "text/plain": [
       "['red', 'orange', 'green', 'black', 'blue']"
      ]
     },
     "execution_count": 49,
     "metadata": {},
     "output_type": "execute_result"
    },
    {
     "data": {
      "text/plain": [
       "['red', 'orange', 'green', 'black', 'blue', 'purple']"
      ]
     },
     "execution_count": 49,
     "metadata": {},
     "output_type": "execute_result"
    },
    {
     "data": {
      "text/plain": [
       "['red', 'orange', 'yellow', 'green', 'black', 'blue', 'purple']"
      ]
     },
     "execution_count": 49,
     "metadata": {},
     "output_type": "execute_result"
    },
    {
     "data": {
      "text/plain": [
       "['red', 'orange', 'yellow', 'green', 'blue', 'purple']"
      ]
     },
     "execution_count": 49,
     "metadata": {},
     "output_type": "execute_result"
    }
   ],
   "source": [
    "# Lists are objects and thus have methods.\n",
    "colors = ['red', 'orange', 'green']\n",
    "colors.extend(['black', 'blue'])\n",
    "colors\n",
    "\n",
    "colors.append('purple')\n",
    "colors\n",
    "\n",
    "colors.insert(2, 'yellow')\n",
    "colors\n",
    "\n",
    "colors.remove('black')\n",
    "colors"
   ]
  },
  {
   "attachments": {},
   "cell_type": "markdown",
   "metadata": {},
   "source": [
    "## Working with a List of Lists"
   ]
  },
  {
   "cell_type": "code",
   "execution_count": 51,
   "metadata": {},
   "outputs": [
    {
     "data": {
      "text/plain": [
       "['Canada', 76.5]"
      ]
     },
     "execution_count": 51,
     "metadata": {},
     "output_type": "execute_result"
    },
    {
     "data": {
      "text/plain": [
       "['United States', 75.5]"
      ]
     },
     "execution_count": 51,
     "metadata": {},
     "output_type": "execute_result"
    },
    {
     "data": {
      "text/plain": [
       "['Mexico', 72.0]"
      ]
     },
     "execution_count": 51,
     "metadata": {},
     "output_type": "execute_result"
    },
    {
     "name": "stdout",
     "output_type": "stream",
     "text": [
      "\n"
     ]
    },
    {
     "data": {
      "text/plain": [
       "['United States', 75.5]"
      ]
     },
     "execution_count": 51,
     "metadata": {},
     "output_type": "execute_result"
    },
    {
     "data": {
      "text/plain": [
       "'United States'"
      ]
     },
     "execution_count": 51,
     "metadata": {},
     "output_type": "execute_result"
    },
    {
     "data": {
      "text/plain": [
       "75.5"
      ]
     },
     "execution_count": 51,
     "metadata": {},
     "output_type": "execute_result"
    },
    {
     "name": "stdout",
     "output_type": "stream",
     "text": [
      "\n"
     ]
    },
    {
     "data": {
      "text/plain": [
       "['Canada', 76.5]"
      ]
     },
     "execution_count": 51,
     "metadata": {},
     "output_type": "execute_result"
    },
    {
     "data": {
      "text/plain": [
       "'Canada'"
      ]
     },
     "execution_count": 51,
     "metadata": {},
     "output_type": "execute_result"
    },
    {
     "data": {
      "text/plain": [
       "76.5"
      ]
     },
     "execution_count": 51,
     "metadata": {},
     "output_type": "execute_result"
    },
    {
     "name": "stdout",
     "output_type": "stream",
     "text": [
      "\n"
     ]
    },
    {
     "data": {
      "text/plain": [
       "['Canada', 80.0]"
      ]
     },
     "execution_count": 51,
     "metadata": {},
     "output_type": "execute_result"
    },
    {
     "data": {
      "text/plain": [
       "[['Canada', 80.0], ['United States', 75.5], ['Mexico', 72.0]]"
      ]
     },
     "execution_count": 51,
     "metadata": {},
     "output_type": "execute_result"
    }
   ],
   "source": [
    "# A list whose items are lists is called a nested list.\n",
    "life = [['Canada', 76.5], ['United States', 75.5], ['Mexico', 72.0]]\n",
    "life[0]\n",
    "life[1]\n",
    "life[2]\n",
    "print()\n",
    "\n",
    "# Since each of these items is also a list, we can index it again, just as we can chain together method calls or nest function calls\n",
    "life[1]\n",
    "life[1][0]\n",
    "life[1][1]\n",
    "print()\n",
    "\n",
    "canada = life[0]\n",
    "canada\n",
    "canada[0]\n",
    "canada[1]\n",
    "print()\n",
    "\n",
    "# As before, any change we make through the sublist reference will be seen when we access the main list, and vice versa\n",
    "canada[1] = 80.0\n",
    "canada\n",
    "life"
   ]
  },
  {
   "cell_type": "markdown",
   "metadata": {},
   "source": [
    "\n",
    "*****************************************************************************\n",
    "Reference<br>\n",
    "*    Title: Physics Programming Lecture Note (INU)\n",
    "*    Author: Jeongwoo Kim, Ph.D.\n",
    "*    Availability: https://sites.google.com/view/jeongwookim\n",
    "  \n",
    "****************************************************************************\n",
    "\n",
    "Copyright (C) 2023 201800294_DongilKim All rights reserved <U>_(https://KimTein.github.io)_</U>"
   ]
  }
 ],
 "metadata": {
  "kernelspec": {
   "display_name": "ai2023_ker",
   "language": "python",
   "name": "ai2023"
  },
  "language_info": {
   "codemirror_mode": {
    "name": "ipython",
    "version": 3
   },
   "file_extension": ".py",
   "mimetype": "text/x-python",
   "name": "python",
   "nbconvert_exporter": "python",
   "pygments_lexer": "ipython3",
   "version": "3.9.16"
  },
  "orig_nbformat": 4
 },
 "nbformat": 4,
 "nbformat_minor": 2
}
