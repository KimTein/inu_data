{
 "cells": [
  {
   "cell_type": "markdown",
   "metadata": {},
   "source": [
    "Copyright (C) 2023 201800294_DongilKim All rights reserved <U>_(https://KimTein.github.io)_</U>"
   ]
  },
  {
   "cell_type": "markdown",
   "metadata": {},
   "source": [
    "# Ch_3_Designing and Using Functions"
   ]
  },
  {
   "cell_type": "code",
   "execution_count": 1,
   "metadata": {},
   "outputs": [],
   "source": [
    "from IPython.core.interactiveshell import InteractiveShell\n",
    "InteractiveShell.ast_node_interactivity = 'all'"
   ]
  },
  {
   "cell_type": "markdown",
   "metadata": {},
   "source": [
    "## Functions That Python Provides"
   ]
  },
  {
   "cell_type": "code",
   "execution_count": 5,
   "metadata": {},
   "outputs": [
    {
     "data": {
      "text/plain": [
       "9"
      ]
     },
     "execution_count": 5,
     "metadata": {},
     "output_type": "execute_result"
    },
    {
     "name": "stdout",
     "output_type": "stream",
     "text": [
      "##############################\n"
     ]
    },
    {
     "data": {
      "text/plain": [
       "3.3"
      ]
     },
     "execution_count": 5,
     "metadata": {},
     "output_type": "execute_result"
    },
    {
     "name": "stdout",
     "output_type": "stream",
     "text": [
      "##############################\n"
     ]
    },
    {
     "data": {
      "text/plain": [
       "7"
      ]
     },
     "execution_count": 5,
     "metadata": {},
     "output_type": "execute_result"
    },
    {
     "name": "stdout",
     "output_type": "stream",
     "text": [
      "##############################\n"
     ]
    },
    {
     "data": {
      "text/plain": [
       "10.3"
      ]
     },
     "execution_count": 5,
     "metadata": {},
     "output_type": "execute_result"
    },
    {
     "name": "stdout",
     "output_type": "stream",
     "text": [
      "##############################\n"
     ]
    },
    {
     "data": {
      "text/plain": [
       "16"
      ]
     },
     "execution_count": 5,
     "metadata": {},
     "output_type": "execute_result"
    },
    {
     "name": "stdout",
     "output_type": "stream",
     "text": [
      "##############################\n"
     ]
    },
    {
     "data": {
      "text/plain": [
       "34"
      ]
     },
     "execution_count": 5,
     "metadata": {},
     "output_type": "execute_result"
    },
    {
     "name": "stdout",
     "output_type": "stream",
     "text": [
      "##############################\n"
     ]
    },
    {
     "data": {
      "text/plain": [
       "-4"
      ]
     },
     "execution_count": 5,
     "metadata": {},
     "output_type": "execute_result"
    },
    {
     "name": "stdout",
     "output_type": "stream",
     "text": [
      "##############################\n"
     ]
    },
    {
     "data": {
      "text/plain": [
       "21.0"
      ]
     },
     "execution_count": 5,
     "metadata": {},
     "output_type": "execute_result"
    },
    {
     "name": "stdout",
     "output_type": "stream",
     "text": [
      "##############################\n",
      "Help on built-in function abs in module builtins:\n",
      "\n",
      "abs(x, /)\n",
      "    Return the absolute value of the argument.\n",
      "\n",
      "##############################\n",
      "Help on built-in function pow in module builtins:\n",
      "\n",
      "pow(base, exp, mod=None)\n",
      "    Equivalent to base**exp with 2 arguments or base**exp % mod with 3 arguments\n",
      "    \n",
      "    Some types, such as ints, are able to use a more efficient algorithm when\n",
      "    invoked using the three argument form.\n",
      "\n",
      "##############################\n"
     ]
    },
    {
     "data": {
      "text/plain": [
       "16"
      ]
     },
     "execution_count": 5,
     "metadata": {},
     "output_type": "execute_result"
    },
    {
     "name": "stdout",
     "output_type": "stream",
     "text": [
      "##############################\n"
     ]
    },
    {
     "data": {
      "text/plain": [
       "1"
      ]
     },
     "execution_count": 5,
     "metadata": {},
     "output_type": "execute_result"
    }
   ],
   "source": [
    "# Python comes with many built-in functions that perform common operations.\n",
    "abs(-9)\n",
    "\n",
    "print(\"#\"*30)\n",
    "\n",
    "abs(3.3)\n",
    "\n",
    "print(\"#\" * 30)\n",
    "\n",
    "# General form of a function call\n",
    "day_temperature = 3\n",
    "night_temperature = 10\n",
    "abs(day_temperature - night_temperature)\n",
    "\n",
    "print(\"#\" * 30)\n",
    "\n",
    "# Examples\n",
    "\n",
    "abs(-7) + abs(3.3)\n",
    "\n",
    "print(\"#\" * 30)\n",
    "\n",
    "pow(abs(-2), round(4.3))\n",
    "\n",
    "print(\"#\" * 30)\n",
    "\n",
    "int(34.6) # Some of the most useful built-in functions are ones that convert from one type to another.\n",
    "\n",
    "print(\"#\" * 30)\n",
    "\n",
    "int(-4.3) # We see that when a floating-point number is converted to an integer, it is truncated, not rounded.\n",
    "\n",
    "print(\"#\" * 30)\n",
    "\n",
    "float(21)\n",
    "\n",
    "print(\"#\" * 30)\n",
    "\n",
    "help(abs)\n",
    "\n",
    "print(\"#\" * 30)\n",
    "\n",
    "# Examples\n",
    "help(pow)\n",
    "\n",
    "print(\"#\" * 30)\n",
    "\n",
    "pow(2, 4) # This call calculates 2^4.\n",
    "\n",
    "print(\"#\" * 30)\n",
    "\n",
    "pow(2, 4, 3) # We know that 2^4 is 16, and evaluation of 16 % 3 produces 1."
   ]
  },
  {
   "cell_type": "markdown",
   "metadata": {},
   "source": [
    "## Memory Addresses: How Python Keeps Track of values"
   ]
  },
  {
   "cell_type": "code",
   "execution_count": 8,
   "metadata": {},
   "outputs": [
    {
     "name": "stdout",
     "output_type": "stream",
     "text": [
      "Help on built-in function id in module builtins:\n",
      "\n",
      "id(obj, /)\n",
      "    Return the identity of an object.\n",
      "    \n",
      "    This is guaranteed to be unique among simultaneously existing objects.\n",
      "    (CPython uses the object's memory address.)\n",
      "\n",
      "##############################\n"
     ]
    },
    {
     "data": {
      "text/plain": [
       "4408793232"
      ]
     },
     "execution_count": 8,
     "metadata": {},
     "output_type": "execute_result"
    },
    {
     "name": "stdout",
     "output_type": "stream",
     "text": [
      "##############################\n"
     ]
    },
    {
     "data": {
      "text/plain": [
       "4408311216"
      ]
     },
     "execution_count": 8,
     "metadata": {},
     "output_type": "execute_result"
    },
    {
     "name": "stdout",
     "output_type": "stream",
     "text": [
      "##############################\n"
     ]
    },
    {
     "data": {
      "text/plain": [
       "4408792464"
      ]
     },
     "execution_count": 8,
     "metadata": {},
     "output_type": "execute_result"
    },
    {
     "name": "stdout",
     "output_type": "stream",
     "text": [
      "##############################\n"
     ]
    },
    {
     "data": {
      "text/plain": [
       "4408311280"
      ]
     },
     "execution_count": 8,
     "metadata": {},
     "output_type": "execute_result"
    },
    {
     "name": "stdout",
     "output_type": "stream",
     "text": [
      "##############################\n"
     ]
    },
    {
     "data": {
      "text/plain": [
       "4346972416"
      ]
     },
     "execution_count": 8,
     "metadata": {},
     "output_type": "execute_result"
    },
    {
     "name": "stdout",
     "output_type": "stream",
     "text": [
      "##############################\n"
     ]
    },
    {
     "data": {
      "text/plain": [
       "4346979408"
      ]
     },
     "execution_count": 8,
     "metadata": {},
     "output_type": "execute_result"
    },
    {
     "name": "stdout",
     "output_type": "stream",
     "text": [
      "##############################\n"
     ]
    }
   ],
   "source": [
    "# You can discover the actual memory address of an object using built-in function id.\n",
    "help(id)\n",
    "\n",
    "print(\"#\" * 30)\n",
    "\n",
    "id(-9)\n",
    "\n",
    "print(\"#\" * 30)\n",
    "\n",
    "id(23.1)\n",
    "\n",
    "print(\"#\" * 30)\n",
    "\n",
    "shoe_size = 8.5\n",
    "id(shoe_size)\n",
    "\n",
    "print(\"#\" * 30)\n",
    "\n",
    "fahrenheit = 77.7\n",
    "id(fahrenheit)\n",
    "\n",
    "print(\"#\" * 30)\n",
    "# Function objects also have memory addresses.\n",
    "\n",
    "id(abs)\n",
    "\n",
    "print(\"#\" * 30)\n",
    "\n",
    "id(round)\n",
    "\n",
    "print(\"#\" * 30)"
   ]
  },
  {
   "cell_type": "markdown",
   "metadata": {},
   "source": [
    "## Defining Our Own Functions"
   ]
  },
  {
   "cell_type": "code",
   "execution_count": 10,
   "metadata": {},
   "outputs": [
    {
     "ename": "NameError",
     "evalue": "name 'convert_to_celsius' is not defined",
     "output_type": "error",
     "traceback": [
      "\u001b[0;31m---------------------------------------------------------------------------\u001b[0m",
      "\u001b[0;31mNameError\u001b[0m                                 Traceback (most recent call last)",
      "\u001b[1;32m/Users/Kim_Tein/INU/inu_data/physics_programming/assignment/Ch_3/ch_3_assignment.ipynb Cell 9\u001b[0m in \u001b[0;36m<cell line: 2>\u001b[0;34m()\u001b[0m\n\u001b[1;32m      <a href='vscode-notebook-cell:/Users/Kim_Tein/INU/inu_data/physics_programming/assignment/Ch_3/ch_3_assignment.ipynb#X23sZmlsZQ%3D%3D?line=0'>1</a>\u001b[0m \u001b[39m# Let’s write our own function that convert Fahrenheit to Celsius.\u001b[39;00m\n\u001b[0;32m----> <a href='vscode-notebook-cell:/Users/Kim_Tein/INU/inu_data/physics_programming/assignment/Ch_3/ch_3_assignment.ipynb#X23sZmlsZQ%3D%3D?line=1'>2</a>\u001b[0m convert_to_celsius(\u001b[39m212\u001b[39m)\n",
      "\u001b[0;31mNameError\u001b[0m: name 'convert_to_celsius' is not defined"
     ]
    }
   ],
   "source": [
    "# Let’s write our own function that convert Fahrenheit to Celsius.\n",
    "convert_to_celsius(212) # The function convert_to_celsius doesn’t exist yet."
   ]
  },
  {
   "cell_type": "code",
   "execution_count": 11,
   "metadata": {},
   "outputs": [
    {
     "data": {
      "text/plain": [
       "26.666666666666668"
      ]
     },
     "execution_count": 11,
     "metadata": {},
     "output_type": "execute_result"
    }
   ],
   "source": [
    "# General form\n",
    "def convert_to_celsius(fahrenheit):\n",
    "    return (fahrenheit - 32) * 5 / 9 \n",
    "\n",
    "convert_to_celsius(80)"
   ]
  },
  {
   "cell_type": "markdown",
   "metadata": {},
   "source": [
    "## Using Local Variables For Temporary Storage"
   ]
  },
  {
   "cell_type": "code",
   "execution_count": 13,
   "metadata": {},
   "outputs": [
    {
     "data": {
      "text/plain": [
       "6.0"
      ]
     },
     "execution_count": 13,
     "metadata": {},
     "output_type": "execute_result"
    },
    {
     "name": "stdout",
     "output_type": "stream",
     "text": [
      "##############################\n"
     ]
    },
    {
     "data": {
      "text/plain": [
       "13.0"
      ]
     },
     "execution_count": 13,
     "metadata": {},
     "output_type": "execute_result"
    },
    {
     "name": "stdout",
     "output_type": "stream",
     "text": [
      "##############################\n"
     ]
    },
    {
     "data": {
      "text/plain": [
       "11.280000000000001"
      ]
     },
     "execution_count": 13,
     "metadata": {},
     "output_type": "execute_result"
    },
    {
     "name": "stdout",
     "output_type": "stream",
     "text": [
      "##############################\n"
     ]
    }
   ],
   "source": [
    "# Some computations are complex, and breaking them down into separate steps can lead to clearer code.\n",
    "def quadratic(a, b, c, x):\n",
    "    first = a * x ** 2\n",
    "    second = b * x\n",
    "    third = c\n",
    "    return first + second + third\n",
    "\n",
    "quadratic(2, 3, 4, 0.5)\n",
    "\n",
    "print(\"#\" * 30)\n",
    "\n",
    "quadratic(2, 3, 4, 1.5)\n",
    "\n",
    "print(\"#\" * 30)\n",
    "\n",
    "quadratic(2, 3, 4, 1.3)\n",
    "\n",
    "print(\"#\" * 30)"
   ]
  },
  {
   "cell_type": "code",
   "execution_count": 14,
   "metadata": {},
   "outputs": [
    {
     "ename": "NameError",
     "evalue": "name 'first' is not defined",
     "output_type": "error",
     "traceback": [
      "\u001b[0;31m---------------------------------------------------------------------------\u001b[0m",
      "\u001b[0;31mNameError\u001b[0m                                 Traceback (most recent call last)",
      "\u001b[1;32m/Users/Kim_Tein/INU/inu_data/physics_programming/assignment/Ch_3/ch_3_assignment.ipynb Cell 13\u001b[0m in \u001b[0;36m<cell line: 2>\u001b[0;34m()\u001b[0m\n\u001b[1;32m      <a href='vscode-notebook-cell:/Users/Kim_Tein/INU/inu_data/physics_programming/assignment/Ch_3/ch_3_assignment.ipynb#X31sZmlsZQ%3D%3D?line=0'>1</a>\u001b[0m \u001b[39m# Trying to access a local variable from outside the function is an error, just like trying to access a variable that has never been defined is an error.\u001b[39;00m\n\u001b[0;32m----> <a href='vscode-notebook-cell:/Users/Kim_Tein/INU/inu_data/physics_programming/assignment/Ch_3/ch_3_assignment.ipynb#X31sZmlsZQ%3D%3D?line=1'>2</a>\u001b[0m first\n",
      "\u001b[0;31mNameError\u001b[0m: name 'first' is not defined"
     ]
    }
   ],
   "source": [
    "# Trying to access a local variable from outside the function is an error, just like trying to access a variable that has never been defined is an error.\n",
    "first"
   ]
  },
  {
   "cell_type": "code",
   "execution_count": 16,
   "metadata": {},
   "outputs": [
    {
     "ename": "NameError",
     "evalue": "name 'a' is not defined",
     "output_type": "error",
     "traceback": [
      "\u001b[0;31m---------------------------------------------------------------------------\u001b[0m",
      "\u001b[0;31mNameError\u001b[0m                                 Traceback (most recent call last)",
      "\u001b[1;32m/Users/Kim_Tein/INU/inu_data/physics_programming/assignment/Ch_3/ch_3_assignment.ipynb Cell 14\u001b[0m in \u001b[0;36m<cell line: 2>\u001b[0;34m()\u001b[0m\n\u001b[1;32m      <a href='vscode-notebook-cell:/Users/Kim_Tein/INU/inu_data/physics_programming/assignment/Ch_3/ch_3_assignment.ipynb#X32sZmlsZQ%3D%3D?line=0'>1</a>\u001b[0m \u001b[39m# Trying to access a local variable from outside the function is an error, just like trying to access a variable that has never been defined is an error.\u001b[39;00m\n\u001b[0;32m----> <a href='vscode-notebook-cell:/Users/Kim_Tein/INU/inu_data/physics_programming/assignment/Ch_3/ch_3_assignment.ipynb#X32sZmlsZQ%3D%3D?line=1'>2</a>\u001b[0m a\n",
      "\u001b[0;31mNameError\u001b[0m: name 'a' is not defined"
     ]
    }
   ],
   "source": [
    "# Trying to access a local variable from outside the function is an error, just like trying to access a variable that has never been defined is an error.\n",
    "a"
   ]
  },
  {
   "cell_type": "code",
   "execution_count": 21,
   "metadata": {},
   "outputs": [
    {
     "ename": "TypeError",
     "evalue": "quadratic() missing 1 required positional argument: 'x'",
     "output_type": "error",
     "traceback": [
      "\u001b[0;31m---------------------------------------------------------------------------\u001b[0m",
      "\u001b[0;31mTypeError\u001b[0m                                 Traceback (most recent call last)",
      "\u001b[1;32m/Users/Kim_Tein/INU/inu_data/physics_programming/assignment/Ch_3/ch_3_assignment.ipynb Cell 15\u001b[0m in \u001b[0;36m<cell line: 8>\u001b[0;34m()\u001b[0m\n\u001b[1;32m      <a href='vscode-notebook-cell:/Users/Kim_Tein/INU/inu_data/physics_programming/assignment/Ch_3/ch_3_assignment.ipynb#X33sZmlsZQ%3D%3D?line=4'>5</a>\u001b[0m     third \u001b[39m=\u001b[39m c\n\u001b[1;32m      <a href='vscode-notebook-cell:/Users/Kim_Tein/INU/inu_data/physics_programming/assignment/Ch_3/ch_3_assignment.ipynb#X33sZmlsZQ%3D%3D?line=5'>6</a>\u001b[0m     \u001b[39mreturn\u001b[39;00m first \u001b[39m+\u001b[39m second \u001b[39m+\u001b[39m third\n\u001b[0;32m----> <a href='vscode-notebook-cell:/Users/Kim_Tein/INU/inu_data/physics_programming/assignment/Ch_3/ch_3_assignment.ipynb#X33sZmlsZQ%3D%3D?line=7'>8</a>\u001b[0m quadratic(\u001b[39m1\u001b[39;49m, \u001b[39m2\u001b[39;49m, \u001b[39m3\u001b[39;49m)\n",
      "\u001b[0;31mTypeError\u001b[0m: quadratic() missing 1 required positional argument: 'x'"
     ]
    }
   ],
   "source": [
    "# The area of a program that a variable can be used in is called the variable’s scope. The scope of a local variable is from the line in which it is defined up until the end of the function.\n",
    "def quadratic(a, b, c, x):\n",
    "    first = a * x ** 2\n",
    "    second = b * x\n",
    "    third = c\n",
    "    return first + second + third\n",
    "\n",
    "quadratic(1, 2, 3) # If a function is defined to take a certain number of parameters, a call on that function must have the same number of arguments"
   ]
  },
  {
   "cell_type": "markdown",
   "metadata": {},
   "source": [
    "## Tracing the Function Calls in the Memory Model"
   ]
  },
  {
   "cell_type": "code",
   "execution_count": 24,
   "metadata": {},
   "outputs": [
    {
     "data": {
      "text/plain": [
       "10"
      ]
     },
     "execution_count": 24,
     "metadata": {},
     "output_type": "execute_result"
    }
   ],
   "source": [
    "# The x that is a parameter of function f is a different variable than the x in the shell.\n",
    "def f(x):\n",
    "    x = 2 * x\n",
    "    return x\n",
    "\n",
    "# Whenever Python executes a function call, it creates a namespace (literally, a space for names) in which to store local variables for that call.\n",
    "x = 1\n",
    "x = f(x + 1) + f(x + 2)\n",
    "x"
   ]
  },
  {
   "cell_type": "markdown",
   "metadata": {},
   "source": [
    "## Designing New Functions: A Recipe"
   ]
  },
  {
   "cell_type": "code",
   "execution_count": 30,
   "metadata": {},
   "outputs": [],
   "source": [
    "# Python uses three double quotes to start and end this documentation; everything in between is meant for humans to read. This notation is called a docstring, which is short for documentation string.\n",
    "\n",
    "def days_differnce(day1: int, day2: int) -> int: # The parameter types and return type form a type contract because we are claiming that if you call this function with the right types of values, we’ll give you back the right type of value.\n",
    "    \"\"\"\n",
    "    Return the number of days between day1 and day2, which are \n",
    "    both in the range 1-365 (thus indicating the day of the\n",
    "    year).\n",
    "    \n",
    "    >>> days_difference(200, 224)\n",
    "    24\n",
    "    >>> days_difference(50, 50)\n",
    "    0\n",
    "    >>> days_difference(100, 99)\n",
    "    -1\n",
    "    \"\"\"\n",
    "    return day2 - day1"
   ]
  },
  {
   "cell_type": "markdown",
   "metadata": {},
   "source": [
    "Designing Three Birthday-Related Functions"
   ]
  },
  {
   "cell_type": "markdown",
   "metadata": {},
   "source": [
    "|Day of the Week | Number|\n",
    "|:---:|:---:|\n",
    "|Sunday|1|\n",
    "|Monday|2|\n",
    "|Tuesday|3|\n",
    "|Wednesday|4|\n",
    "|Thursday|5|\n",
    "|Friday|6|\n",
    "|Saturday|7|"
   ]
  },
  {
   "cell_type": "code",
   "execution_count": 35,
   "metadata": {},
   "outputs": [
    {
     "data": {
      "text/plain": [
       "4"
      ]
     },
     "execution_count": 35,
     "metadata": {},
     "output_type": "execute_result"
    },
    {
     "data": {
      "text/plain": [
       "7"
      ]
     },
     "execution_count": 35,
     "metadata": {},
     "output_type": "execute_result"
    },
    {
     "data": {
      "text/plain": [
       "8"
      ]
     },
     "execution_count": 35,
     "metadata": {},
     "output_type": "execute_result"
    },
    {
     "name": "stdout",
     "output_type": "stream",
     "text": [
      "##############################\n"
     ]
    },
    {
     "data": {
      "text/plain": [
       "4"
      ]
     },
     "execution_count": 35,
     "metadata": {},
     "output_type": "execute_result"
    },
    {
     "data": {
      "text/plain": [
       "7"
      ]
     },
     "execution_count": 35,
     "metadata": {},
     "output_type": "execute_result"
    },
    {
     "data": {
      "text/plain": [
       "1"
      ]
     },
     "execution_count": 35,
     "metadata": {},
     "output_type": "execute_result"
    }
   ],
   "source": [
    "# Range from 1 to 7\n",
    "def get_weekday(current_weekday: int, days_ahead: int) -> int:\n",
    "    return current_weekday + days_ahead % 7\n",
    "\n",
    "get_weekday(3, 1)\n",
    "get_weekday(6, 1)\n",
    "get_weekday(7, 1)\n",
    "\n",
    "print(\"#\" * 30)\n",
    "\n",
    "# Range from 0 to 6\n",
    "# Sunday -> 0, Saturday -> 6\n",
    " \n",
    "def get_weekday(current_weekday: int, days_ahead: int) -> int:\n",
    "    return (current_weekday + days_ahead - 1) % 7 + 1\n",
    "\n",
    "get_weekday(3, 1)\n",
    "get_weekday(6, 1)\n",
    "get_weekday(7, 1)"
   ]
  },
  {
   "cell_type": "markdown",
   "metadata": {},
   "source": [
    "**What Day Is My Birthday On?**"
   ]
  },
  {
   "cell_type": "code",
   "execution_count": 38,
   "metadata": {},
   "outputs": [
    {
     "data": {
      "text/plain": [
       "6"
      ]
     },
     "execution_count": 38,
     "metadata": {},
     "output_type": "execute_result"
    },
    {
     "data": {
      "text/plain": [
       "6"
      ]
     },
     "execution_count": 38,
     "metadata": {},
     "output_type": "execute_result"
    },
    {
     "data": {
      "text/plain": [
       "5"
      ]
     },
     "execution_count": 38,
     "metadata": {},
     "output_type": "execute_result"
    }
   ],
   "source": [
    "def get_birthday_weekday(current_weekday: int, current_day: int, birthday_day: int) -> int:\n",
    "    days_diff = days_differnce(current_day, birthday_day)\n",
    "    return get_weekday(current_weekday, days_diff)\n",
    "\n",
    "get_birthday_weekday(5, 3, 4)\n",
    "get_birthday_weekday(5, 3, 116)\n",
    "get_birthday_weekday(6, 116, 3)"
   ]
  },
  {
   "cell_type": "markdown",
   "metadata": {},
   "source": [
    "## Omitting a return Statement:None"
   ]
  },
  {
   "cell_type": "code",
   "execution_count": 40,
   "metadata": {},
   "outputs": [
    {
     "name": "stdout",
     "output_type": "stream",
     "text": [
      "##############################\n",
      "None\n",
      "##############################\n"
     ]
    },
    {
     "data": {
      "text/plain": [
       "4344743376"
      ]
     },
     "execution_count": 40,
     "metadata": {},
     "output_type": "execute_result"
    },
    {
     "name": "stdout",
     "output_type": "stream",
     "text": [
      "##############################\n",
      "None\n"
     ]
    }
   ],
   "source": [
    "# If you don’t have a return statement in a function, nothing is produced.\n",
    "def f(x):\n",
    "    x = 2 * x\n",
    "\n",
    "res = f(3)\n",
    "res\n",
    "\n",
    "print(\"#\" * 30)\n",
    "\n",
    "print(res)\n",
    "\n",
    "print(\"#\" * 30)\n",
    "\n",
    "id(res)\n",
    "\n",
    "print(\"#\" * 30)\n",
    "\n",
    "# Variable res has a value: it’s None! And None has a memory address. If you don’t have a return statement in your function, your function will return None.\n",
    "\n",
    "def f(x):\n",
    "    x = 2 * x\n",
    "    return None\n",
    "\n",
    "print(f(3))"
   ]
  },
  {
   "cell_type": "markdown",
   "metadata": {},
   "source": [
    "## Dealing with Situations That Your Code Doesn’t Handle"
   ]
  },
  {
   "cell_type": "code",
   "execution_count": 43,
   "metadata": {},
   "outputs": [
    {
     "data": {
      "text/plain": [
       "20"
      ]
     },
     "execution_count": 43,
     "metadata": {},
     "output_type": "execute_result"
    },
    {
     "data": {
      "text/plain": [
       "50"
      ]
     },
     "execution_count": 43,
     "metadata": {},
     "output_type": "execute_result"
    },
    {
     "data": {
      "text/plain": [
       "100"
      ]
     },
     "execution_count": 43,
     "metadata": {},
     "output_type": "execute_result"
    }
   ],
   "source": [
    "# You’ll often write a function that works only in some situations.\n",
    "def pie_percent(n: int) -> int:\n",
    "    return int(100 / n)\n",
    "\n",
    "pie_percent(5)\n",
    "pie_percent(2)\n",
    "pie_percent(1)"
   ]
  },
  {
   "cell_type": "markdown",
   "metadata": {},
   "source": [
    "# Ch_4_Working with text"
   ]
  },
  {
   "cell_type": "markdown",
   "metadata": {},
   "source": [
    "## Creating Strings of Characters"
   ]
  },
  {
   "cell_type": "markdown",
   "metadata": {},
   "source": [
    "### The opening and closing quotes must match."
   ]
  },
  {
   "cell_type": "code",
   "execution_count": 4,
   "metadata": {},
   "outputs": [
    {
     "data": {
      "text/plain": [
       "'Aristotle'"
      ]
     },
     "execution_count": 4,
     "metadata": {},
     "output_type": "execute_result"
    },
    {
     "data": {
      "text/plain": [
       "'Issac Newton'"
      ]
     },
     "execution_count": 4,
     "metadata": {},
     "output_type": "execute_result"
    }
   ],
   "source": [
    "'Aristotle'\n",
    "\"Issac Newton\""
   ]
  },
  {
   "cell_type": "code",
   "execution_count": 5,
   "metadata": {},
   "outputs": [
    {
     "ename": "SyntaxError",
     "evalue": "EOL while scanning string literal (192036928.py, line 2)",
     "output_type": "error",
     "traceback": [
      "\u001b[0;36m  Input \u001b[0;32mIn [5]\u001b[0;36m\u001b[0m\n\u001b[0;31m    'Charles Darwin\"\u001b[0m\n\u001b[0m                    ^\u001b[0m\n\u001b[0;31mSyntaxError\u001b[0m\u001b[0;31m:\u001b[0m EOL while scanning string literal\n"
     ]
    }
   ],
   "source": [
    "# The error indicates that the end of the line was reached before the end of the string (which should be marked with a closing single quote) was found.\n",
    "'Charles Darwin\""
   ]
  },
  {
   "cell_type": "markdown",
   "metadata": {},
   "source": [
    "### Operations on Strings"
   ]
  },
  {
   "cell_type": "code",
   "execution_count": 6,
   "metadata": {},
   "outputs": [
    {
     "data": {
      "text/plain": [
       "15"
      ]
     },
     "execution_count": 6,
     "metadata": {},
     "output_type": "execute_result"
    },
    {
     "name": "stdout",
     "output_type": "stream",
     "text": [
      "##############################\n"
     ]
    },
    {
     "data": {
      "text/plain": [
       "4"
      ]
     },
     "execution_count": 6,
     "metadata": {},
     "output_type": "execute_result"
    },
    {
     "name": "stdout",
     "output_type": "stream",
     "text": [
      "##############################\n"
     ]
    },
    {
     "data": {
      "text/plain": [
       "1"
      ]
     },
     "execution_count": 6,
     "metadata": {},
     "output_type": "execute_result"
    },
    {
     "name": "stdout",
     "output_type": "stream",
     "text": [
      "##############################\n"
     ]
    },
    {
     "data": {
      "text/plain": [
       "0"
      ]
     },
     "execution_count": 6,
     "metadata": {},
     "output_type": "execute_result"
    }
   ],
   "source": [
    "# Python has a built-in function, len, that returns the number of characters between the opening and closing quotes.\n",
    "len('Albert Einstein')\n",
    "print(\"#\"*30)\n",
    "\n",
    "len('123!')\n",
    "print(\"#\"*30)\n",
    "\n",
    "len(' ')\n",
    "print(\"#\"*30)\n",
    "\n",
    "len('')"
   ]
  },
  {
   "cell_type": "code",
   "execution_count": 8,
   "metadata": {},
   "outputs": [
    {
     "data": {
      "text/plain": [
       "'Albert Einstein'"
      ]
     },
     "execution_count": 8,
     "metadata": {},
     "output_type": "execute_result"
    }
   ],
   "source": [
    "# We can add two strings using the + operator, which produces a new string containing the same characters as in the two operands.\n",
    "# When + has two string operands, it is referred to as the concatenation operator.\n",
    "'Albert' + ' Einstein'"
   ]
  },
  {
   "cell_type": "code",
   "execution_count": 9,
   "metadata": {},
   "outputs": [
    {
     "data": {
      "text/plain": [
       "'Alan Turing'"
      ]
     },
     "execution_count": 9,
     "metadata": {},
     "output_type": "execute_result"
    },
    {
     "name": "stdout",
     "output_type": "stream",
     "text": [
      "##############################\n"
     ]
    },
    {
     "data": {
      "text/plain": [
       "'Grace Hopper'"
      ]
     },
     "execution_count": 9,
     "metadata": {},
     "output_type": "execute_result"
    }
   ],
   "source": [
    "# Adding an empty string to another string produces a new string that is just like the nonempty operand.\n",
    "\"Alan Turing\" + ''\n",
    "print(\"#\"*30)\n",
    "\n",
    "\"\" + 'Grace Hopper'"
   ]
  },
  {
   "cell_type": "code",
   "execution_count": 10,
   "metadata": {},
   "outputs": [
    {
     "ename": "TypeError",
     "evalue": "can only concatenate str (not \"int\") to str",
     "output_type": "error",
     "traceback": [
      "\u001b[0;31m---------------------------------------------------------------------------\u001b[0m",
      "\u001b[0;31mTypeError\u001b[0m                                 Traceback (most recent call last)",
      "\u001b[1;32m/Users/Kim_Tein/INU/inu_data/physics_programming/assignment/Ch_3/ch_3_4_assignment.ipynb Cell 38\u001b[0m in \u001b[0;36m<cell line: 2>\u001b[0;34m()\u001b[0m\n\u001b[1;32m      <a href='vscode-notebook-cell:/Users/Kim_Tein/INU/inu_data/physics_programming/assignment/Ch_3/ch_3_4_assignment.ipynb#X60sZmlsZQ%3D%3D?line=0'>1</a>\u001b[0m \u001b[39m# Because the first operand was a string, Python expected the second operand to also be a string but instead it was an integer.\u001b[39;00m\n\u001b[0;32m----> <a href='vscode-notebook-cell:/Users/Kim_Tein/INU/inu_data/physics_programming/assignment/Ch_3/ch_3_4_assignment.ipynb#X60sZmlsZQ%3D%3D?line=1'>2</a>\u001b[0m \u001b[39m'\u001b[39;49m\u001b[39mNH\u001b[39;49m\u001b[39m'\u001b[39;49m \u001b[39m+\u001b[39;49m \u001b[39m3\u001b[39;49m\n",
      "\u001b[0;31mTypeError\u001b[0m: can only concatenate str (not \"int\") to str"
     ]
    }
   ],
   "source": [
    "# Because the first operand was a string, Python expected the second operand to also be a string but instead it was an integer.\n",
    "'NH' + 3"
   ]
  },
  {
   "cell_type": "code",
   "execution_count": 11,
   "metadata": {},
   "outputs": [
    {
     "ename": "TypeError",
     "evalue": "unsupported operand type(s) for +: 'int' and 'str'",
     "output_type": "error",
     "traceback": [
      "\u001b[0;31m---------------------------------------------------------------------------\u001b[0m",
      "\u001b[0;31mTypeError\u001b[0m                                 Traceback (most recent call last)",
      "\u001b[1;32m/Users/Kim_Tein/INU/inu_data/physics_programming/assignment/Ch_3/ch_3_4_assignment.ipynb Cell 39\u001b[0m in \u001b[0;36m<cell line: 2>\u001b[0;34m()\u001b[0m\n\u001b[1;32m      <a href='vscode-notebook-cell:/Users/Kim_Tein/INU/inu_data/physics_programming/assignment/Ch_3/ch_3_4_assignment.ipynb#X61sZmlsZQ%3D%3D?line=0'>1</a>\u001b[0m \u001b[39m# Because Python saw a 9 first, it expected the second operand to also be numeric.\u001b[39;00m\n\u001b[0;32m----> <a href='vscode-notebook-cell:/Users/Kim_Tein/INU/inu_data/physics_programming/assignment/Ch_3/ch_3_4_assignment.ipynb#X61sZmlsZQ%3D%3D?line=1'>2</a>\u001b[0m \u001b[39m9\u001b[39;49m \u001b[39m+\u001b[39;49m \u001b[39m'\u001b[39;49m\u001b[39mplanets\u001b[39;49m\u001b[39m'\u001b[39;49m\n",
      "\u001b[0;31mTypeError\u001b[0m: unsupported operand type(s) for +: 'int' and 'str'"
     ]
    }
   ],
   "source": [
    "# Because Python saw a 9 first, it expected the second operand to also be numeric.\n",
    "9 + 'planets'"
   ]
  },
  {
   "cell_type": "code",
   "execution_count": 12,
   "metadata": {},
   "outputs": [
    {
     "data": {
      "text/plain": [
       "'Four score and 7 years ago'"
      ]
     },
     "execution_count": 12,
     "metadata": {},
     "output_type": "execute_result"
    }
   ],
   "source": [
    "# If you want to join a string with a number, you could apply function str to the number to get its string representation, and then apply the concatenation.\n",
    "'Four score and ' + str(7) + ' years ago'"
   ]
  },
  {
   "cell_type": "code",
   "execution_count": 13,
   "metadata": {},
   "outputs": [
    {
     "data": {
      "text/plain": [
       "0"
      ]
     },
     "execution_count": 13,
     "metadata": {},
     "output_type": "execute_result"
    },
    {
     "name": "stdout",
     "output_type": "stream",
     "text": [
      "##############################\n"
     ]
    },
    {
     "data": {
      "text/plain": [
       "11"
      ]
     },
     "execution_count": 13,
     "metadata": {},
     "output_type": "execute_result"
    },
    {
     "name": "stdout",
     "output_type": "stream",
     "text": [
      "##############################\n"
     ]
    },
    {
     "data": {
      "text/plain": [
       "-324"
      ]
     },
     "execution_count": 13,
     "metadata": {},
     "output_type": "execute_result"
    },
    {
     "name": "stdout",
     "output_type": "stream",
     "text": [
      "##############################\n"
     ]
    },
    {
     "data": {
      "text/plain": [
       "-324.0"
      ]
     },
     "execution_count": 13,
     "metadata": {},
     "output_type": "execute_result"
    },
    {
     "name": "stdout",
     "output_type": "stream",
     "text": [
      "##############################\n"
     ]
    },
    {
     "data": {
      "text/plain": [
       "56.34"
      ]
     },
     "execution_count": 13,
     "metadata": {},
     "output_type": "execute_result"
    }
   ],
   "source": [
    "# Function int can be applied to a string whose contents look like an integer, and float can be applied to a string whose contents are numeric\n",
    "int('0')\n",
    "print(\"#\" * 30)\n",
    "\n",
    "int(\"11\")\n",
    "print(\"#\" * 30)\n",
    "\n",
    "int('-324')\n",
    "print(\"#\" * 30)\n",
    "\n",
    "float('-324')\n",
    "print(\"#\" * 30)\n",
    "\n",
    "float(\"56.34\")"
   ]
  },
  {
   "cell_type": "code",
   "execution_count": 14,
   "metadata": {},
   "outputs": [
    {
     "ename": "ValueError",
     "evalue": "invalid literal for int() with base 10: 'a'",
     "output_type": "error",
     "traceback": [
      "\u001b[0;31m---------------------------------------------------------------------------\u001b[0m",
      "\u001b[0;31mValueError\u001b[0m                                Traceback (most recent call last)",
      "\u001b[1;32m/Users/Kim_Tein/INU/inu_data/physics_programming/assignment/Ch_3/ch_3_4_assignment.ipynb Cell 42\u001b[0m in \u001b[0;36m<cell line: 2>\u001b[0;34m()\u001b[0m\n\u001b[1;32m      <a href='vscode-notebook-cell:/Users/Kim_Tein/INU/inu_data/physics_programming/assignment/Ch_3/ch_3_4_assignment.ipynb#X64sZmlsZQ%3D%3D?line=0'>1</a>\u001b[0m \u001b[39m# It isn’t always possible to get an integer or a floating- point representation of a string.\u001b[39;00m\n\u001b[0;32m----> <a href='vscode-notebook-cell:/Users/Kim_Tein/INU/inu_data/physics_programming/assignment/Ch_3/ch_3_4_assignment.ipynb#X64sZmlsZQ%3D%3D?line=1'>2</a>\u001b[0m \u001b[39mint\u001b[39;49m(\u001b[39m'\u001b[39;49m\u001b[39ma\u001b[39;49m\u001b[39m'\u001b[39;49m)\n",
      "\u001b[0;31mValueError\u001b[0m: invalid literal for int() with base 10: 'a'"
     ]
    }
   ],
   "source": [
    "# It isn’t always possible to get an integer or a floating- point representation of a string.\n",
    "int('a')"
   ]
  },
  {
   "cell_type": "code",
   "execution_count": 15,
   "metadata": {},
   "outputs": [
    {
     "ename": "ValueError",
     "evalue": "could not convert string to float: 'b'",
     "output_type": "error",
     "traceback": [
      "\u001b[0;31m---------------------------------------------------------------------------\u001b[0m",
      "\u001b[0;31mValueError\u001b[0m                                Traceback (most recent call last)",
      "\u001b[1;32m/Users/Kim_Tein/INU/inu_data/physics_programming/assignment/Ch_3/ch_3_4_assignment.ipynb Cell 43\u001b[0m in \u001b[0;36m<cell line: 1>\u001b[0;34m()\u001b[0m\n\u001b[0;32m----> <a href='vscode-notebook-cell:/Users/Kim_Tein/INU/inu_data/physics_programming/assignment/Ch_3/ch_3_4_assignment.ipynb#X65sZmlsZQ%3D%3D?line=0'>1</a>\u001b[0m \u001b[39mfloat\u001b[39;49m(\u001b[39m'\u001b[39;49m\u001b[39mb\u001b[39;49m\u001b[39m'\u001b[39;49m)\n",
      "\u001b[0;31mValueError\u001b[0m: could not convert string to float: 'b'"
     ]
    }
   ],
   "source": [
    "float('b')"
   ]
  },
  {
   "cell_type": "code",
   "execution_count": 16,
   "metadata": {},
   "outputs": [
    {
     "data": {
      "text/plain": [
       "'ATATATATAT'"
      ]
     },
     "execution_count": 16,
     "metadata": {},
     "output_type": "execute_result"
    },
    {
     "name": "stdout",
     "output_type": "stream",
     "text": [
      "##############################\n"
     ]
    },
    {
     "data": {
      "text/plain": [
       "'----'"
      ]
     },
     "execution_count": 16,
     "metadata": {},
     "output_type": "execute_result"
    },
    {
     "name": "stdout",
     "output_type": "stream",
     "text": [
      "##############################\n"
     ]
    },
    {
     "data": {
      "text/plain": [
       "''"
      ]
     },
     "execution_count": 16,
     "metadata": {},
     "output_type": "execute_result"
    },
    {
     "name": "stdout",
     "output_type": "stream",
     "text": [
      "##############################\n"
     ]
    },
    {
     "data": {
      "text/plain": [
       "''"
      ]
     },
     "execution_count": 16,
     "metadata": {},
     "output_type": "execute_result"
    }
   ],
   "source": [
    "# In addition to +, len, int, and float, operator * can be applied to strings.\n",
    "'AT' * 5\n",
    "print(\"#\"*30)\n",
    "\n",
    "4 * '-'\n",
    "print(\"#\"*30)\n",
    "\n",
    "'Gc' * 0\n",
    "print(\"#\"*30)\n",
    "\n",
    "'TATATA' * -3"
   ]
  },
  {
   "cell_type": "code",
   "execution_count": 17,
   "metadata": {},
   "outputs": [
    {
     "data": {
      "text/plain": [
       "10"
      ]
     },
     "execution_count": 17,
     "metadata": {},
     "output_type": "execute_result"
    },
    {
     "name": "stdout",
     "output_type": "stream",
     "text": [
      "##############################\n"
     ]
    },
    {
     "data": {
      "text/plain": [
       "'ATTGTCCCCCGGCCTCCTGC'"
      ]
     },
     "execution_count": 17,
     "metadata": {},
     "output_type": "execute_result"
    },
    {
     "name": "stdout",
     "output_type": "stream",
     "text": [
      "##############################\n"
     ]
    },
    {
     "data": {
      "text/plain": [
       "'ATTGTCCCCCGGCCTCCTGCATTGTCCCCCGGCCTCCTGC'"
      ]
     },
     "execution_count": 17,
     "metadata": {},
     "output_type": "execute_result"
    }
   ],
   "source": [
    "# Strings are values, so you can assign a string to a variable.\n",
    "sequence = 'ATTGTCCCCC'\n",
    "len(sequence)\n",
    "print(\"#\"*30)\n",
    "\n",
    "new_sequence = sequence + 'GGCCTCCTGC'\n",
    "new_sequence\n",
    "print(\"#\"*30)\n",
    "\n",
    "new_sequence * 2"
   ]
  },
  {
   "cell_type": "markdown",
   "metadata": {},
   "source": [
    "## Using Special Characters in Strings"
   ]
  },
  {
   "cell_type": "code",
   "execution_count": 18,
   "metadata": {},
   "outputs": [
    {
     "ename": "SyntaxError",
     "evalue": "invalid syntax (1027383114.py, line 4)",
     "output_type": "error",
     "traceback": [
      "\u001b[0;36m  Input \u001b[0;32mIn [18]\u001b[0;36m\u001b[0m\n\u001b[0;31m    'that's not to going to work'\u001b[0m\n\u001b[0m          ^\u001b[0m\n\u001b[0;31mSyntaxError\u001b[0m\u001b[0;31m:\u001b[0m invalid syntax\n"
     ]
    }
   ],
   "source": [
    "# Suppose you want to put a single quote inside a string. If you write it directly, an error occurs\n",
    "# When Python encounters the second quote—the one that is intended to be part of the string—it thinks the string is ended. \n",
    "# It doesn’t know what to do with the text that comes after the second quote\n",
    "'that's not to going to work'"
   ]
  },
  {
   "cell_type": "code",
   "execution_count": 19,
   "metadata": {},
   "outputs": [
    {
     "data": {
      "text/plain": [
       "\"that's better\""
      ]
     },
     "execution_count": 19,
     "metadata": {},
     "output_type": "execute_result"
    },
    {
     "name": "stdout",
     "output_type": "stream",
     "text": [
      "##############################\n"
     ]
    },
    {
     "data": {
      "text/plain": [
       "'She said, \"That is better.\"'"
      ]
     },
     "execution_count": 19,
     "metadata": {},
     "output_type": "execute_result"
    }
   ],
   "source": [
    "# One simple way to fix this is to use double quotes around the string\n",
    "\"that's better\"\n",
    "print(\"#\"*30)\n",
    "\n",
    "# We can also put single quotes around a string containing a double quote.\n",
    "'She said, \"That is better.\"'"
   ]
  },
  {
   "cell_type": "code",
   "execution_count": 20,
   "metadata": {},
   "outputs": [
    {
     "data": {
      "text/plain": [
       "'She said, \"That\\'s hard to read.\"'"
      ]
     },
     "execution_count": 20,
     "metadata": {},
     "output_type": "execute_result"
    }
   ],
   "source": [
    "# The backslash is called an escape character, and the combination of the backslash and the single quote is called an escape sequence. \n",
    "# The name comes from the fact that we’re “escaping” from Python’s usual syntax rules for a moment.\n",
    "'She said, \"That' + \"'\" + 's hard to read.\"'"
   ]
  },
  {
   "cell_type": "code",
   "execution_count": 21,
   "metadata": {},
   "outputs": [
    {
     "data": {
      "text/plain": [
       "1"
      ]
     },
     "execution_count": 21,
     "metadata": {},
     "output_type": "execute_result"
    },
    {
     "name": "stdout",
     "output_type": "stream",
     "text": [
      "##############################\n"
     ]
    },
    {
     "data": {
      "text/plain": [
       "4"
      ]
     },
     "execution_count": 21,
     "metadata": {},
     "output_type": "execute_result"
    }
   ],
   "source": [
    "# The escape sequence \\' is indicated using two symbols, but those two symbols represent a single character.\n",
    "len('\\'')\n",
    "print(\"#\" * 30)\n",
    "\n",
    "len('it\\'s')"
   ]
  },
  {
   "cell_type": "code",
   "execution_count": 22,
   "metadata": {},
   "outputs": [
    {
     "data": {
      "text/plain": [
       "'She said, \"That\\'s hard to read.\"'"
      ]
     },
     "execution_count": 22,
     "metadata": {},
     "output_type": "execute_result"
    }
   ],
   "source": [
    "# The backslash is called an escape character, and the combination of the backslash and the single quote is called an escape sequence. \n",
    "# The name comes from the fact that we’re “escaping” from Python’s usual syntax rules for a moment.\n",
    "'She said, \"That' + \"'\" + 's hard to read.\"'"
   ]
  },
  {
   "cell_type": "markdown",
   "metadata": {},
   "source": [
    "## Creating Multiline String"
   ]
  },
  {
   "cell_type": "code",
   "execution_count": 24,
   "metadata": {},
   "outputs": [
    {
     "ename": "SyntaxError",
     "evalue": "EOL while scanning string literal (1791044688.py, line 2)",
     "output_type": "error",
     "traceback": [
      "\u001b[0;36m  Input \u001b[0;32mIn [24]\u001b[0;36m\u001b[0m\n\u001b[0;31m    'one\u001b[0m\n\u001b[0m        ^\u001b[0m\n\u001b[0;31mSyntaxError\u001b[0m\u001b[0;31m:\u001b[0m EOL while scanning string literal\n"
     ]
    }
   ],
   "source": [
    "# If you create a string using single or double quotes, the whole string must fit onto a single line.\n",
    "'one"
   ]
  },
  {
   "cell_type": "code",
   "execution_count": 26,
   "metadata": {},
   "outputs": [
    {
     "data": {
      "text/plain": [
       "'one\\ntwo\\nthree'"
      ]
     },
     "execution_count": 26,
     "metadata": {},
     "output_type": "execute_result"
    }
   ],
   "source": [
    "# To span multiple lines, put three single quotes or three double quotes around the string instead of one. \n",
    "# The string can then span as many lines as you want.\n",
    "'''one\n",
    "two\n",
    "three'''"
   ]
  },
  {
   "cell_type": "markdown",
   "metadata": {},
   "source": [
    "Notice that the string Python creates contains a \\n sequence everywhere our input started a new line. Each newline is a character in the string."
   ]
  },
  {
   "cell_type": "markdown",
   "metadata": {},
   "source": [
    "## Printing Information"
   ]
  },
  {
   "cell_type": "markdown",
   "metadata": {},
   "source": [
    "### Built-in function print"
   ]
  },
  {
   "cell_type": "code",
   "execution_count": 28,
   "metadata": {},
   "outputs": [
    {
     "name": "stdout",
     "output_type": "stream",
     "text": [
      "2\n",
      "The Latin 'Oryctolagus cuniculus' means 'domestic rabbit'.\n",
      "\n",
      "In 1859, Charles Darwin revolutionized biology\n",
      "and our understanding of ourselves\n",
      "by publishing \"On the Origin of species\".\n",
      "\n",
      "one\ttwo\n",
      "three\tfour\n"
     ]
    }
   ],
   "source": [
    "# Function print doesn’t allow any styling of the output: no colors, no italics, no boldface. All output is plain text.\n",
    "print(1 + 1)\n",
    "print(\"The Latin 'Oryctolagus cuniculus' means 'domestic rabbit'.\\n\")\n",
    "\n",
    "print('In 1859, Charles Darwin revolutionized biology')\n",
    "print('and our understanding of ourselves')\n",
    "print('by publishing \"On the Origin of species\".\\n')\n",
    "\n",
    "print('one\\ttwo\\nthree\\tfour')"
   ]
  },
  {
   "cell_type": "code",
   "execution_count": 29,
   "metadata": {},
   "outputs": [
    {
     "data": {
      "text/plain": [
       "'one\\ntwo\\nthree'"
      ]
     },
     "execution_count": 29,
     "metadata": {},
     "output_type": "execute_result"
    },
    {
     "name": "stdout",
     "output_type": "stream",
     "text": [
      "##############################\n",
      "one\n",
      "two\n",
      "three\n",
      "##############################\n",
      "1 2 3\n",
      "##############################\n",
      "\n"
     ]
    }
   ],
   "source": [
    "numbers = '''one\n",
    "two\n",
    "three'''\n",
    "numbers\n",
    "print(\"#\" * 30)\n",
    "\n",
    "print(numbers) # When a multiline string is printed, those \\n sequences are displayed as new lines.\n",
    "print(\"#\" * 30)\n",
    "\n",
    "print(1, 2, 3) # Function print takes a comma-separated list of values and prints the values with a single space between them and a newline after the last value.\n",
    "print(\"#\" * 30)\n",
    "\n",
    "print() # Print ends the current line, advancing to the next one."
   ]
  },
  {
   "cell_type": "code",
   "execution_count": 30,
   "metadata": {},
   "outputs": [
    {
     "name": "stdout",
     "output_type": "stream",
     "text": [
      "1 two three 4.0\n"
     ]
    }
   ],
   "source": [
    "# Function print can print values of any type, and it can even print values of different types in the same function call.\n",
    "print(1, 'two', 'three', 4.0)"
   ]
  },
  {
   "cell_type": "code",
   "execution_count": 31,
   "metadata": {},
   "outputs": [
    {
     "name": "stdout",
     "output_type": "stream",
     "text": [
      "The diameter of the circle is 10 cm.\n"
     ]
    }
   ],
   "source": [
    "# It is possible to call print with an expression as an argument.\n",
    "radius = 5\n",
    "print(\"The diameter of the circle is\", radius * 2, \"cm.\")"
   ]
  },
  {
   "cell_type": "code",
   "execution_count": 32,
   "metadata": {},
   "outputs": [
    {
     "name": "stdout",
     "output_type": "stream",
     "text": [
      "Help on built-in function print in module builtins:\n",
      "\n",
      "print(...)\n",
      "    print(value, ..., sep=' ', end='\\n', file=sys.stdout, flush=False)\n",
      "    \n",
      "    Prints the values to a stream, or to sys.stdout by default.\n",
      "    Optional keyword arguments:\n",
      "    file:  a file-like object (stream); defaults to the current sys.stdout.\n",
      "    sep:   string inserted between values, default a space.\n",
      "    end:   string appended after the last value, default a newline.\n",
      "    flush: whether to forcibly flush the stream.\n",
      "\n"
     ]
    }
   ],
   "source": [
    "# The parameters sep, end, file, and flush have assignment statements in the function header! \n",
    "# These are called default parameter values: by default, if we call function print with a comma-separated list of values, the separator is a space; similarly, a newline character appears at the end of every printed string.\n",
    "help(print)"
   ]
  },
  {
   "cell_type": "code",
   "execution_count": 37,
   "metadata": {},
   "outputs": [
    {
     "name": "stdout",
     "output_type": "stream",
     "text": [
      "a b c\n",
      "\n",
      "a,b,c\n",
      "\n",
      "\n",
      "a,b,c"
     ]
    }
   ],
   "source": [
    "# We separate each value with a comma and a space instead of just a space by including sep=', ' as an argument\n",
    "print('a', 'b', 'c' '\\n')\n",
    "print('a', 'b', 'c', sep=',')\n",
    "\n",
    "print('\\n')\n",
    "print('a', 'b', 'c', sep=',', end='')"
   ]
  },
  {
   "cell_type": "code",
   "execution_count": 38,
   "metadata": {},
   "outputs": [
    {
     "name": "stdout",
     "output_type": "stream",
     "text": [
      "80, 78.8 and 10.4 degrees Fahrenheit are equal to 26.666666666666668, \n",
      "26.0, and -12.0 Celsius. \n"
     ]
    }
   ],
   "source": [
    "def convert_to_celsius(fahrenheit: float) -> float:\n",
    "    \"\"\" Return the number of Celsius degrees equivalent to fahrenheit degrees.\n",
    "    >>> convert_to_celsius(75)\n",
    "    23.888888888888889\n",
    "    \"\"\"\n",
    "    \n",
    "    return (fahrenheit - 32.0) * 5.0 / 9.0\n",
    "\n",
    "print('80, 78.8 and 10.4 degrees Fahrenheit are equal to ', end='')\n",
    "print(convert_to_celsius(80), end=', \\n')\n",
    "print(convert_to_celsius(78.8), end=', and ')\n",
    "print(convert_to_celsius(10.4), end=' Celsius. \\n')"
   ]
  },
  {
   "cell_type": "markdown",
   "metadata": {},
   "source": [
    "## Getting Information from the Keyboard"
   ]
  },
  {
   "cell_type": "code",
   "execution_count": 39,
   "metadata": {},
   "outputs": [],
   "source": [
    "# Another built-in function is input, which reads a single line of text from the keyboard. \n",
    "# It returns whatever the user enters as a string, even if it looks like a number.\n",
    "species = input()\n",
    "species\n",
    "print()\n",
    "\n",
    "population = input()\n",
    "population\n",
    "print()\n",
    "\n",
    "type(population)\n",
    "print()\n",
    "\n",
    "species = input(\"Please enter a species: \")\n",
    "print(species)"
   ]
  },
  {
   "cell_type": "code",
   "execution_count": 41,
   "metadata": {},
   "outputs": [
    {
     "data": {
      "text/plain": [
       "'Homo sapiens'"
      ]
     },
     "execution_count": 41,
     "metadata": {},
     "output_type": "execute_result"
    }
   ],
   "source": [
    "# If you are expecting the user to enter a number, you must use int or float to get an integer or a floating-point representation of the string.\n",
    "population = input()\n",
    "population"
   ]
  },
  {
   "cell_type": "code",
   "execution_count": 51,
   "metadata": {},
   "outputs": [
    {
     "data": {
      "text/plain": [
       "'6973738433'"
      ]
     },
     "execution_count": 51,
     "metadata": {},
     "output_type": "execute_result"
    }
   ],
   "source": [
    "population = input(population)\n",
    "population"
   ]
  },
  {
   "cell_type": "code",
   "execution_count": 44,
   "metadata": {},
   "outputs": [
    {
     "data": {
      "text/plain": [
       "str"
      ]
     },
     "execution_count": 44,
     "metadata": {},
     "output_type": "execute_result"
    }
   ],
   "source": [
    "type(population)"
   ]
  },
  {
   "cell_type": "code",
   "execution_count": 50,
   "metadata": {},
   "outputs": [
    {
     "data": {
      "text/plain": [
       "6973738434"
      ]
     },
     "execution_count": 50,
     "metadata": {},
     "output_type": "execute_result"
    }
   ],
   "source": [
    "population = int(input())\n",
    "population = population + 1\n",
    "population"
   ]
  },
  {
   "cell_type": "markdown",
   "metadata": {},
   "source": [
    "\n",
    "*****************************************************************************\n",
    "Reference<br>\n",
    "*    Title: Physics Programming Lecture Note (INU)\n",
    "*    Author: Jeongwoo Kim, Ph.D.\n",
    "*    Availability: https://sites.google.com/view/jeongwookim\n",
    "  \n",
    "****************************************************************************"
   ]
  },
  {
   "cell_type": "markdown",
   "metadata": {},
   "source": [
    "Copyright (C) 2023 201800294_김동일 All rights reserved <U>_(https://KimTein.github.io)_</U>"
   ]
  }
 ],
 "metadata": {
  "kernelspec": {
   "display_name": "ai2023_ker",
   "language": "python",
   "name": "ai2023"
  },
  "language_info": {
   "codemirror_mode": {
    "name": "ipython",
    "version": 3
   },
   "file_extension": ".py",
   "mimetype": "text/x-python",
   "name": "python",
   "nbconvert_exporter": "python",
   "pygments_lexer": "ipython3",
   "version": "3.9.16"
  }
 },
 "nbformat": 4,
 "nbformat_minor": 2
}
