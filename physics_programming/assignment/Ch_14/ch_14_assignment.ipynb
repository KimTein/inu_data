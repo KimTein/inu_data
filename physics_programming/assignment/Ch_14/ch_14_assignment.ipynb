{
 "cells": [
  {
   "cell_type": "markdown",
   "metadata": {},
   "source": [
    "Copyright (C) 2023 201800294_DongilKim All rights reserved <U>_(https://KimTein.github.io)_</U>"
   ]
  },
  {
   "attachments": {},
   "cell_type": "markdown",
   "metadata": {},
   "source": [
    "Ch_14_assignment"
   ]
  },
  {
   "cell_type": "code",
   "execution_count": 1,
   "metadata": {},
   "outputs": [],
   "source": [
    "from IPython.core.interactiveshell import InteractiveShell\n",
    "InteractiveShell.ast_node_interactivity = 'all'"
   ]
  },
  {
   "cell_type": "code",
   "execution_count": null,
   "metadata": {},
   "outputs": [],
   "source": []
  },
  {
   "attachments": {},
   "cell_type": "markdown",
   "metadata": {},
   "source": [
    "\n",
    "*****************************************************************************\n",
    "Reference<br>\n",
    "*    Title: Physics Programming Lecture Note (INU)\n",
    "*    Author: Jeongwoo Kim, Ph.D.\n",
    "*    Availability: https://sites.google.com/view/jeongwookim\n",
    "  \n",
    "****************************************************************************\n",
    "\n",
    "Copyright (C) 2023 201800294_DongilKim All rights reserved <U>_(https://KimTein.github.io)_</U>"
   ]
  }
 ],
 "metadata": {
  "kernelspec": {
   "display_name": "ai2023_ker",
   "language": "python",
   "name": "ai2023"
  },
  "language_info": {
   "codemirror_mode": {
    "name": "ipython",
    "version": 3
   },
   "file_extension": ".py",
   "mimetype": "text/x-python",
   "name": "python",
   "nbconvert_exporter": "python",
   "pygments_lexer": "ipython3",
   "version": "3.9.16"
  },
  "orig_nbformat": 4
 },
 "nbformat": 4,
 "nbformat_minor": 2
}
