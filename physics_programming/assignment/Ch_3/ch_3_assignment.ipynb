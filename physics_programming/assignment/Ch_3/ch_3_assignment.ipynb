{
 "cells": [
  {
   "cell_type": "markdown",
   "metadata": {},
   "source": [
    "Copyright (C) 2023 201800294_DongilKim All rights reserved <U>_(https://KimTein.github.io)_</U>"
   ]
  },
  {
   "attachments": {},
   "cell_type": "markdown",
   "metadata": {},
   "source": [
    "## ch_3_assignment"
   ]
  },
  {
   "cell_type": "code",
   "execution_count": 1,
   "metadata": {},
   "outputs": [],
   "source": [
    "from IPython.core.interactiveshell import InteractiveShell\n",
    "InteractiveShell.ast_node_interactivity = 'all'"
   ]
  },
  {
   "attachments": {},
   "cell_type": "markdown",
   "metadata": {},
   "source": [
    "### Functions That Python Provides"
   ]
  },
  {
   "cell_type": "code",
   "execution_count": 5,
   "metadata": {},
   "outputs": [
    {
     "data": {
      "text/plain": [
       "9"
      ]
     },
     "execution_count": 5,
     "metadata": {},
     "output_type": "execute_result"
    },
    {
     "name": "stdout",
     "output_type": "stream",
     "text": [
      "##############################\n"
     ]
    },
    {
     "data": {
      "text/plain": [
       "3.3"
      ]
     },
     "execution_count": 5,
     "metadata": {},
     "output_type": "execute_result"
    },
    {
     "name": "stdout",
     "output_type": "stream",
     "text": [
      "##############################\n"
     ]
    },
    {
     "data": {
      "text/plain": [
       "7"
      ]
     },
     "execution_count": 5,
     "metadata": {},
     "output_type": "execute_result"
    },
    {
     "name": "stdout",
     "output_type": "stream",
     "text": [
      "##############################\n"
     ]
    },
    {
     "data": {
      "text/plain": [
       "10.3"
      ]
     },
     "execution_count": 5,
     "metadata": {},
     "output_type": "execute_result"
    },
    {
     "name": "stdout",
     "output_type": "stream",
     "text": [
      "##############################\n"
     ]
    },
    {
     "data": {
      "text/plain": [
       "16"
      ]
     },
     "execution_count": 5,
     "metadata": {},
     "output_type": "execute_result"
    },
    {
     "name": "stdout",
     "output_type": "stream",
     "text": [
      "##############################\n"
     ]
    },
    {
     "data": {
      "text/plain": [
       "34"
      ]
     },
     "execution_count": 5,
     "metadata": {},
     "output_type": "execute_result"
    },
    {
     "name": "stdout",
     "output_type": "stream",
     "text": [
      "##############################\n"
     ]
    },
    {
     "data": {
      "text/plain": [
       "-4"
      ]
     },
     "execution_count": 5,
     "metadata": {},
     "output_type": "execute_result"
    },
    {
     "name": "stdout",
     "output_type": "stream",
     "text": [
      "##############################\n"
     ]
    },
    {
     "data": {
      "text/plain": [
       "21.0"
      ]
     },
     "execution_count": 5,
     "metadata": {},
     "output_type": "execute_result"
    },
    {
     "name": "stdout",
     "output_type": "stream",
     "text": [
      "##############################\n",
      "Help on built-in function abs in module builtins:\n",
      "\n",
      "abs(x, /)\n",
      "    Return the absolute value of the argument.\n",
      "\n",
      "##############################\n",
      "Help on built-in function pow in module builtins:\n",
      "\n",
      "pow(base, exp, mod=None)\n",
      "    Equivalent to base**exp with 2 arguments or base**exp % mod with 3 arguments\n",
      "    \n",
      "    Some types, such as ints, are able to use a more efficient algorithm when\n",
      "    invoked using the three argument form.\n",
      "\n",
      "##############################\n"
     ]
    },
    {
     "data": {
      "text/plain": [
       "16"
      ]
     },
     "execution_count": 5,
     "metadata": {},
     "output_type": "execute_result"
    },
    {
     "name": "stdout",
     "output_type": "stream",
     "text": [
      "##############################\n"
     ]
    },
    {
     "data": {
      "text/plain": [
       "1"
      ]
     },
     "execution_count": 5,
     "metadata": {},
     "output_type": "execute_result"
    }
   ],
   "source": [
    "# Python comes with many built-in functions that perform common operations.\n",
    "abs(-9)\n",
    "\n",
    "print(\"#\"*30)\n",
    "\n",
    "abs(3.3)\n",
    "\n",
    "print(\"#\" * 30)\n",
    "\n",
    "# General form of a function call\n",
    "day_temperature = 3\n",
    "night_temperature = 10\n",
    "abs(day_temperature - night_temperature)\n",
    "\n",
    "print(\"#\" * 30)\n",
    "\n",
    "# Examples\n",
    "\n",
    "abs(-7) + abs(3.3)\n",
    "\n",
    "print(\"#\" * 30)\n",
    "\n",
    "pow(abs(-2), round(4.3))\n",
    "\n",
    "print(\"#\" * 30)\n",
    "\n",
    "int(34.6) # Some of the most useful built-in functions are ones that convert from one type to another.\n",
    "\n",
    "print(\"#\" * 30)\n",
    "\n",
    "int(-4.3) # We see that when a floating-point number is converted to an integer, it is truncated, not rounded.\n",
    "\n",
    "print(\"#\" * 30)\n",
    "\n",
    "float(21)\n",
    "\n",
    "print(\"#\" * 30)\n",
    "\n",
    "help(abs)\n",
    "\n",
    "print(\"#\" * 30)\n",
    "\n",
    "# Examples\n",
    "help(pow)\n",
    "\n",
    "print(\"#\" * 30)\n",
    "\n",
    "pow(2, 4) # This call calculates 2^4.\n",
    "\n",
    "print(\"#\" * 30)\n",
    "\n",
    "pow(2, 4, 3) # We know that 2^4 is 16, and evaluation of 16 % 3 produces 1."
   ]
  },
  {
   "attachments": {},
   "cell_type": "markdown",
   "metadata": {},
   "source": [
    "### Memory Addresses: How Python Keeps Track of values"
   ]
  },
  {
   "cell_type": "code",
   "execution_count": 8,
   "metadata": {},
   "outputs": [
    {
     "name": "stdout",
     "output_type": "stream",
     "text": [
      "Help on built-in function id in module builtins:\n",
      "\n",
      "id(obj, /)\n",
      "    Return the identity of an object.\n",
      "    \n",
      "    This is guaranteed to be unique among simultaneously existing objects.\n",
      "    (CPython uses the object's memory address.)\n",
      "\n",
      "##############################\n"
     ]
    },
    {
     "data": {
      "text/plain": [
       "4408793232"
      ]
     },
     "execution_count": 8,
     "metadata": {},
     "output_type": "execute_result"
    },
    {
     "name": "stdout",
     "output_type": "stream",
     "text": [
      "##############################\n"
     ]
    },
    {
     "data": {
      "text/plain": [
       "4408311216"
      ]
     },
     "execution_count": 8,
     "metadata": {},
     "output_type": "execute_result"
    },
    {
     "name": "stdout",
     "output_type": "stream",
     "text": [
      "##############################\n"
     ]
    },
    {
     "data": {
      "text/plain": [
       "4408792464"
      ]
     },
     "execution_count": 8,
     "metadata": {},
     "output_type": "execute_result"
    },
    {
     "name": "stdout",
     "output_type": "stream",
     "text": [
      "##############################\n"
     ]
    },
    {
     "data": {
      "text/plain": [
       "4408311280"
      ]
     },
     "execution_count": 8,
     "metadata": {},
     "output_type": "execute_result"
    },
    {
     "name": "stdout",
     "output_type": "stream",
     "text": [
      "##############################\n"
     ]
    },
    {
     "data": {
      "text/plain": [
       "4346972416"
      ]
     },
     "execution_count": 8,
     "metadata": {},
     "output_type": "execute_result"
    },
    {
     "name": "stdout",
     "output_type": "stream",
     "text": [
      "##############################\n"
     ]
    },
    {
     "data": {
      "text/plain": [
       "4346979408"
      ]
     },
     "execution_count": 8,
     "metadata": {},
     "output_type": "execute_result"
    },
    {
     "name": "stdout",
     "output_type": "stream",
     "text": [
      "##############################\n"
     ]
    }
   ],
   "source": [
    "# You can discover the actual memory address of an object using built-in function id.\n",
    "help(id)\n",
    "\n",
    "print(\"#\" * 30)\n",
    "\n",
    "id(-9)\n",
    "\n",
    "print(\"#\" * 30)\n",
    "\n",
    "id(23.1)\n",
    "\n",
    "print(\"#\" * 30)\n",
    "\n",
    "shoe_size = 8.5\n",
    "id(shoe_size)\n",
    "\n",
    "print(\"#\" * 30)\n",
    "\n",
    "fahrenheit = 77.7\n",
    "id(fahrenheit)\n",
    "\n",
    "print(\"#\" * 30)\n",
    "# Function objects also have memory addresses.\n",
    "\n",
    "id(abs)\n",
    "\n",
    "print(\"#\" * 30)\n",
    "\n",
    "id(round)\n",
    "\n",
    "print(\"#\" * 30)"
   ]
  },
  {
   "attachments": {},
   "cell_type": "markdown",
   "metadata": {},
   "source": [
    "### Defining Our Own Functions"
   ]
  },
  {
   "cell_type": "code",
   "execution_count": 10,
   "metadata": {},
   "outputs": [
    {
     "ename": "NameError",
     "evalue": "name 'convert_to_celsius' is not defined",
     "output_type": "error",
     "traceback": [
      "\u001b[0;31m---------------------------------------------------------------------------\u001b[0m",
      "\u001b[0;31mNameError\u001b[0m                                 Traceback (most recent call last)",
      "\u001b[1;32m/Users/Kim_Tein/INU/inu_data/physics_programming/assignment/Ch_3/ch_3_assignment.ipynb Cell 9\u001b[0m in \u001b[0;36m<cell line: 2>\u001b[0;34m()\u001b[0m\n\u001b[1;32m      <a href='vscode-notebook-cell:/Users/Kim_Tein/INU/inu_data/physics_programming/assignment/Ch_3/ch_3_assignment.ipynb#X23sZmlsZQ%3D%3D?line=0'>1</a>\u001b[0m \u001b[39m# Let’s write our own function that convert Fahrenheit to Celsius.\u001b[39;00m\n\u001b[0;32m----> <a href='vscode-notebook-cell:/Users/Kim_Tein/INU/inu_data/physics_programming/assignment/Ch_3/ch_3_assignment.ipynb#X23sZmlsZQ%3D%3D?line=1'>2</a>\u001b[0m convert_to_celsius(\u001b[39m212\u001b[39m)\n",
      "\u001b[0;31mNameError\u001b[0m: name 'convert_to_celsius' is not defined"
     ]
    }
   ],
   "source": [
    "# Let’s write our own function that convert Fahrenheit to Celsius.\n",
    "convert_to_celsius(212) # The function convert_to_celsius doesn’t exist yet."
   ]
  },
  {
   "cell_type": "code",
   "execution_count": 11,
   "metadata": {},
   "outputs": [
    {
     "data": {
      "text/plain": [
       "26.666666666666668"
      ]
     },
     "execution_count": 11,
     "metadata": {},
     "output_type": "execute_result"
    }
   ],
   "source": [
    "# General form\n",
    "def convert_to_celsius(fahrenheit):\n",
    "    return (fahrenheit - 32) * 5 / 9 \n",
    "\n",
    "convert_to_celsius(80)"
   ]
  },
  {
   "attachments": {},
   "cell_type": "markdown",
   "metadata": {},
   "source": [
    "### Using Local Variables For Temporary Storage"
   ]
  },
  {
   "cell_type": "code",
   "execution_count": 13,
   "metadata": {},
   "outputs": [
    {
     "data": {
      "text/plain": [
       "6.0"
      ]
     },
     "execution_count": 13,
     "metadata": {},
     "output_type": "execute_result"
    },
    {
     "name": "stdout",
     "output_type": "stream",
     "text": [
      "##############################\n"
     ]
    },
    {
     "data": {
      "text/plain": [
       "13.0"
      ]
     },
     "execution_count": 13,
     "metadata": {},
     "output_type": "execute_result"
    },
    {
     "name": "stdout",
     "output_type": "stream",
     "text": [
      "##############################\n"
     ]
    },
    {
     "data": {
      "text/plain": [
       "11.280000000000001"
      ]
     },
     "execution_count": 13,
     "metadata": {},
     "output_type": "execute_result"
    },
    {
     "name": "stdout",
     "output_type": "stream",
     "text": [
      "##############################\n"
     ]
    }
   ],
   "source": [
    "# Some computations are complex, and breaking them down into separate steps can lead to clearer code.\n",
    "def quadratic(a, b, c, x):\n",
    "    first = a * x ** 2\n",
    "    second = b * x\n",
    "    third = c\n",
    "    return first + second + third\n",
    "\n",
    "quadratic(2, 3, 4, 0.5)\n",
    "\n",
    "print(\"#\" * 30)\n",
    "\n",
    "quadratic(2, 3, 4, 1.5)\n",
    "\n",
    "print(\"#\" * 30)\n",
    "\n",
    "quadratic(2, 3, 4, 1.3)\n",
    "\n",
    "print(\"#\" * 30)"
   ]
  },
  {
   "cell_type": "code",
   "execution_count": 14,
   "metadata": {},
   "outputs": [
    {
     "ename": "NameError",
     "evalue": "name 'first' is not defined",
     "output_type": "error",
     "traceback": [
      "\u001b[0;31m---------------------------------------------------------------------------\u001b[0m",
      "\u001b[0;31mNameError\u001b[0m                                 Traceback (most recent call last)",
      "\u001b[1;32m/Users/Kim_Tein/INU/inu_data/physics_programming/assignment/Ch_3/ch_3_assignment.ipynb Cell 13\u001b[0m in \u001b[0;36m<cell line: 2>\u001b[0;34m()\u001b[0m\n\u001b[1;32m      <a href='vscode-notebook-cell:/Users/Kim_Tein/INU/inu_data/physics_programming/assignment/Ch_3/ch_3_assignment.ipynb#X31sZmlsZQ%3D%3D?line=0'>1</a>\u001b[0m \u001b[39m# Trying to access a local variable from outside the function is an error, just like trying to access a variable that has never been defined is an error.\u001b[39;00m\n\u001b[0;32m----> <a href='vscode-notebook-cell:/Users/Kim_Tein/INU/inu_data/physics_programming/assignment/Ch_3/ch_3_assignment.ipynb#X31sZmlsZQ%3D%3D?line=1'>2</a>\u001b[0m first\n",
      "\u001b[0;31mNameError\u001b[0m: name 'first' is not defined"
     ]
    }
   ],
   "source": [
    "# Trying to access a local variable from outside the function is an error, just like trying to access a variable that has never been defined is an error.\n",
    "first"
   ]
  },
  {
   "cell_type": "code",
   "execution_count": 16,
   "metadata": {},
   "outputs": [
    {
     "ename": "NameError",
     "evalue": "name 'a' is not defined",
     "output_type": "error",
     "traceback": [
      "\u001b[0;31m---------------------------------------------------------------------------\u001b[0m",
      "\u001b[0;31mNameError\u001b[0m                                 Traceback (most recent call last)",
      "\u001b[1;32m/Users/Kim_Tein/INU/inu_data/physics_programming/assignment/Ch_3/ch_3_assignment.ipynb Cell 14\u001b[0m in \u001b[0;36m<cell line: 2>\u001b[0;34m()\u001b[0m\n\u001b[1;32m      <a href='vscode-notebook-cell:/Users/Kim_Tein/INU/inu_data/physics_programming/assignment/Ch_3/ch_3_assignment.ipynb#X32sZmlsZQ%3D%3D?line=0'>1</a>\u001b[0m \u001b[39m# Trying to access a local variable from outside the function is an error, just like trying to access a variable that has never been defined is an error.\u001b[39;00m\n\u001b[0;32m----> <a href='vscode-notebook-cell:/Users/Kim_Tein/INU/inu_data/physics_programming/assignment/Ch_3/ch_3_assignment.ipynb#X32sZmlsZQ%3D%3D?line=1'>2</a>\u001b[0m a\n",
      "\u001b[0;31mNameError\u001b[0m: name 'a' is not defined"
     ]
    }
   ],
   "source": [
    "# Trying to access a local variable from outside the function is an error, just like trying to access a variable that has never been defined is an error.\n",
    "a"
   ]
  },
  {
   "cell_type": "code",
   "execution_count": 21,
   "metadata": {},
   "outputs": [
    {
     "ename": "TypeError",
     "evalue": "quadratic() missing 1 required positional argument: 'x'",
     "output_type": "error",
     "traceback": [
      "\u001b[0;31m---------------------------------------------------------------------------\u001b[0m",
      "\u001b[0;31mTypeError\u001b[0m                                 Traceback (most recent call last)",
      "\u001b[1;32m/Users/Kim_Tein/INU/inu_data/physics_programming/assignment/Ch_3/ch_3_assignment.ipynb Cell 15\u001b[0m in \u001b[0;36m<cell line: 8>\u001b[0;34m()\u001b[0m\n\u001b[1;32m      <a href='vscode-notebook-cell:/Users/Kim_Tein/INU/inu_data/physics_programming/assignment/Ch_3/ch_3_assignment.ipynb#X33sZmlsZQ%3D%3D?line=4'>5</a>\u001b[0m     third \u001b[39m=\u001b[39m c\n\u001b[1;32m      <a href='vscode-notebook-cell:/Users/Kim_Tein/INU/inu_data/physics_programming/assignment/Ch_3/ch_3_assignment.ipynb#X33sZmlsZQ%3D%3D?line=5'>6</a>\u001b[0m     \u001b[39mreturn\u001b[39;00m first \u001b[39m+\u001b[39m second \u001b[39m+\u001b[39m third\n\u001b[0;32m----> <a href='vscode-notebook-cell:/Users/Kim_Tein/INU/inu_data/physics_programming/assignment/Ch_3/ch_3_assignment.ipynb#X33sZmlsZQ%3D%3D?line=7'>8</a>\u001b[0m quadratic(\u001b[39m1\u001b[39;49m, \u001b[39m2\u001b[39;49m, \u001b[39m3\u001b[39;49m)\n",
      "\u001b[0;31mTypeError\u001b[0m: quadratic() missing 1 required positional argument: 'x'"
     ]
    }
   ],
   "source": [
    "# The area of a program that a variable can be used in is called the variable’s scope. The scope of a local variable is from the line in which it is defined up until the end of the function.\n",
    "def quadratic(a, b, c, x):\n",
    "    first = a * x ** 2\n",
    "    second = b * x\n",
    "    third = c\n",
    "    return first + second + third\n",
    "\n",
    "quadratic(1, 2, 3) # If a function is defined to take a certain number of parameters, a call on that function must have the same number of arguments"
   ]
  },
  {
   "attachments": {},
   "cell_type": "markdown",
   "metadata": {},
   "source": [
    "### Tracing the Function Calls in the Memory Model"
   ]
  },
  {
   "cell_type": "code",
   "execution_count": 24,
   "metadata": {},
   "outputs": [
    {
     "data": {
      "text/plain": [
       "10"
      ]
     },
     "execution_count": 24,
     "metadata": {},
     "output_type": "execute_result"
    }
   ],
   "source": [
    "# The x that is a parameter of function f is a different variable than the x in the shell.\n",
    "def f(x):\n",
    "    x = 2 * x\n",
    "    return x\n",
    "\n",
    "# Whenever Python executes a function call, it creates a namespace (literally, a space for names) in which to store local variables for that call.\n",
    "x = 1\n",
    "x = f(x + 1) + f(x + 2)\n",
    "x"
   ]
  },
  {
   "attachments": {},
   "cell_type": "markdown",
   "metadata": {},
   "source": [
    "### Designing New Functions: A Recipe"
   ]
  },
  {
   "cell_type": "code",
   "execution_count": 30,
   "metadata": {},
   "outputs": [],
   "source": [
    "# Python uses three double quotes to start and end this documentation; everything in between is meant for humans to read. This notation is called a docstring, which is short for documentation string.\n",
    "\n",
    "def days_differnce(day1: int, day2: int) -> int: # The parameter types and return type form a type contract because we are claiming that if you call this function with the right types of values, we’ll give you back the right type of value.\n",
    "    \"\"\"\n",
    "    Return the number of days between day1 and day2, which are \n",
    "    both in the range 1-365 (thus indicating the day of the\n",
    "    year).\n",
    "    \n",
    "    >>> days_difference(200, 224)\n",
    "    24\n",
    "    >>> days_difference(50, 50)\n",
    "    0\n",
    "    >>> days_difference(100, 99)\n",
    "    -1\n",
    "    \"\"\"\n",
    "    return day2 - day1"
   ]
  },
  {
   "attachments": {},
   "cell_type": "markdown",
   "metadata": {},
   "source": [
    "Designing Three Birthday-Related Functions"
   ]
  },
  {
   "attachments": {},
   "cell_type": "markdown",
   "metadata": {},
   "source": [
    "|Day of the Week | Number|\n",
    "|:---:|:---:|\n",
    "|Sunday|1|\n",
    "|Monday|2|\n",
    "|Tuesday|3|\n",
    "|Wednesday|4|\n",
    "|Thursday|5|\n",
    "|Friday|6|\n",
    "|Saturday|7|"
   ]
  },
  {
   "cell_type": "code",
   "execution_count": 35,
   "metadata": {},
   "outputs": [
    {
     "data": {
      "text/plain": [
       "4"
      ]
     },
     "execution_count": 35,
     "metadata": {},
     "output_type": "execute_result"
    },
    {
     "data": {
      "text/plain": [
       "7"
      ]
     },
     "execution_count": 35,
     "metadata": {},
     "output_type": "execute_result"
    },
    {
     "data": {
      "text/plain": [
       "8"
      ]
     },
     "execution_count": 35,
     "metadata": {},
     "output_type": "execute_result"
    },
    {
     "name": "stdout",
     "output_type": "stream",
     "text": [
      "##############################\n"
     ]
    },
    {
     "data": {
      "text/plain": [
       "4"
      ]
     },
     "execution_count": 35,
     "metadata": {},
     "output_type": "execute_result"
    },
    {
     "data": {
      "text/plain": [
       "7"
      ]
     },
     "execution_count": 35,
     "metadata": {},
     "output_type": "execute_result"
    },
    {
     "data": {
      "text/plain": [
       "1"
      ]
     },
     "execution_count": 35,
     "metadata": {},
     "output_type": "execute_result"
    }
   ],
   "source": [
    "# Range from 1 to 7\n",
    "def get_weekday(current_weekday: int, days_ahead: int) -> int:\n",
    "    return current_weekday + days_ahead % 7\n",
    "\n",
    "get_weekday(3, 1)\n",
    "get_weekday(6, 1)\n",
    "get_weekday(7, 1)\n",
    "\n",
    "print(\"#\" * 30)\n",
    "\n",
    "# Range from 0 to 6\n",
    "# Sunday -> 0, Saturday -> 6\n",
    " \n",
    "def get_weekday(current_weekday: int, days_ahead: int) -> int:\n",
    "    return (current_weekday + days_ahead - 1) % 7 + 1\n",
    "\n",
    "get_weekday(3, 1)\n",
    "get_weekday(6, 1)\n",
    "get_weekday(7, 1)"
   ]
  },
  {
   "attachments": {},
   "cell_type": "markdown",
   "metadata": {},
   "source": [
    "**What Day Is My Birthday On?**"
   ]
  },
  {
   "cell_type": "code",
   "execution_count": 38,
   "metadata": {},
   "outputs": [
    {
     "data": {
      "text/plain": [
       "6"
      ]
     },
     "execution_count": 38,
     "metadata": {},
     "output_type": "execute_result"
    },
    {
     "data": {
      "text/plain": [
       "6"
      ]
     },
     "execution_count": 38,
     "metadata": {},
     "output_type": "execute_result"
    },
    {
     "data": {
      "text/plain": [
       "5"
      ]
     },
     "execution_count": 38,
     "metadata": {},
     "output_type": "execute_result"
    }
   ],
   "source": [
    "def get_birthday_weekday(current_weekday: int, current_day: int, birthday_day: int) -> int:\n",
    "    days_diff = days_differnce(current_day, birthday_day)\n",
    "    return get_weekday(current_weekday, days_diff)\n",
    "\n",
    "get_birthday_weekday(5, 3, 4)\n",
    "get_birthday_weekday(5, 3, 116)\n",
    "get_birthday_weekday(6, 116, 3)"
   ]
  },
  {
   "attachments": {},
   "cell_type": "markdown",
   "metadata": {},
   "source": [
    "### Omitting a return Statement:None"
   ]
  },
  {
   "cell_type": "code",
   "execution_count": 40,
   "metadata": {},
   "outputs": [
    {
     "name": "stdout",
     "output_type": "stream",
     "text": [
      "##############################\n",
      "None\n",
      "##############################\n"
     ]
    },
    {
     "data": {
      "text/plain": [
       "4344743376"
      ]
     },
     "execution_count": 40,
     "metadata": {},
     "output_type": "execute_result"
    },
    {
     "name": "stdout",
     "output_type": "stream",
     "text": [
      "##############################\n",
      "None\n"
     ]
    }
   ],
   "source": [
    "# If you don’t have a return statement in a function, nothing is produced.\n",
    "def f(x):\n",
    "    x = 2 * x\n",
    "\n",
    "res = f(3)\n",
    "res\n",
    "\n",
    "print(\"#\" * 30)\n",
    "\n",
    "print(res)\n",
    "\n",
    "print(\"#\" * 30)\n",
    "\n",
    "id(res)\n",
    "\n",
    "print(\"#\" * 30)\n",
    "\n",
    "# Variable res has a value: it’s None! And None has a memory address. If you don’t have a return statement in your function, your function will return None.\n",
    "\n",
    "def f(x):\n",
    "    x = 2 * x\n",
    "    return None\n",
    "\n",
    "print(f(3))"
   ]
  },
  {
   "attachments": {},
   "cell_type": "markdown",
   "metadata": {},
   "source": [
    "### Dealing with Situations That Your Code Doesn’t Handle"
   ]
  },
  {
   "cell_type": "code",
   "execution_count": 43,
   "metadata": {},
   "outputs": [
    {
     "data": {
      "text/plain": [
       "20"
      ]
     },
     "execution_count": 43,
     "metadata": {},
     "output_type": "execute_result"
    },
    {
     "data": {
      "text/plain": [
       "50"
      ]
     },
     "execution_count": 43,
     "metadata": {},
     "output_type": "execute_result"
    },
    {
     "data": {
      "text/plain": [
       "100"
      ]
     },
     "execution_count": 43,
     "metadata": {},
     "output_type": "execute_result"
    }
   ],
   "source": [
    "# You’ll often write a function that works only in some situations.\n",
    "def pie_percent(n: int) -> int:\n",
    "    return int(100 / n)\n",
    "\n",
    "pie_percent(5)\n",
    "pie_percent(2)\n",
    "pie_percent(1)"
   ]
  },
  {
   "attachments": {},
   "cell_type": "markdown",
   "metadata": {},
   "source": [
    "\n",
    "*****************************************************************************\n",
    "Reference<br>\n",
    "*    Title: Physics Programming Lecture Note (INU)\n",
    "*    Author: Jeongwoo Kim, Ph.D.\n",
    "*    Availability: https://sites.google.com/view/jeongwookim\n",
    "  \n",
    "****************************************************************************"
   ]
  },
  {
   "attachments": {},
   "cell_type": "markdown",
   "metadata": {},
   "source": [
    "Copyright (C) 2023 201800294_김동일 All rights reserved <U>_(https://KimTein.github.io)_</U>"
   ]
  }
 ],
 "metadata": {
  "kernelspec": {
   "display_name": "AI_Project",
   "language": "python",
   "name": "python3"
  },
  "language_info": {
   "codemirror_mode": {
    "name": "ipython",
    "version": 3
   },
   "file_extension": ".py",
   "mimetype": "text/x-python",
   "name": "python",
   "nbconvert_exporter": "python",
   "pygments_lexer": "ipython3",
   "version": "3.9.13"
  },
  "orig_nbformat": 4
 },
 "nbformat": 4,
 "nbformat_minor": 2
}
